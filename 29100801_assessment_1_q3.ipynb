{
 "cells": [
  {
   "cell_type": "markdown",
   "metadata": {},
   "source": [
    "# Bootstrapping"
   ]
  },
  {
   "cell_type": "markdown",
   "metadata": {},
   "source": [
    "## Loading train and test data"
   ]
  },
  {
   "cell_type": "code",
   "execution_count": 1,
   "metadata": {},
   "outputs": [],
   "source": [
    "#loading training data\n",
    "train_data <- read.csv(\"Task1B_train.csv\")\n",
    "train_label <- train_data[1:nrow(train_data),2] #creating the training labels\n",
    "\n",
    "#loading testing data\n",
    "test_data <- read.csv(\"Task1B_test.csv\")\n",
    "test_label <- test_data[1:nrow(test_data),2] #creating the testing labels"
   ]
  },
  {
   "cell_type": "code",
   "execution_count": 2,
   "metadata": {},
   "outputs": [
    {
     "data": {
      "text/html": [
       "<table>\n",
       "<thead><tr><th scope=col>x1</th><th scope=col>x2</th><th scope=col>x3</th><th scope=col>x4</th><th scope=col>y</th></tr></thead>\n",
       "<tbody>\n",
       "\t<tr><td>1991.496</td><td>1628.75 </td><td>1678.1  </td><td>1772.8  </td><td>2443.6  </td></tr>\n",
       "\t<tr><td>1991.504</td><td>1606.51 </td><td>1678.6  </td><td>1718.0  </td><td>2448.2  </td></tr>\n",
       "\t<tr><td>1991.512</td><td>1618.16 </td><td>1686.6  </td><td>1723.1  </td><td>2484.7  </td></tr>\n",
       "\t<tr><td>1991.519</td><td>1630.75 </td><td>1682.9  </td><td>1734.5  </td><td>2487.9  </td></tr>\n",
       "\t<tr><td>1991.527</td><td>1635.47 </td><td>1697.5  </td><td>1754.0  </td><td>2510.5  </td></tr>\n",
       "\t<tr><td>1991.535</td><td>1647.84 </td><td>1723.8  </td><td>1759.8  </td><td>2532.5  </td></tr>\n",
       "</tbody>\n",
       "</table>\n"
      ],
      "text/latex": [
       "\\begin{tabular}{r|lllll}\n",
       " x1 & x2 & x3 & x4 & y\\\\\n",
       "\\hline\n",
       "\t 1991.496 & 1628.75  & 1678.1   & 1772.8   & 2443.6  \\\\\n",
       "\t 1991.504 & 1606.51  & 1678.6   & 1718.0   & 2448.2  \\\\\n",
       "\t 1991.512 & 1618.16  & 1686.6   & 1723.1   & 2484.7  \\\\\n",
       "\t 1991.519 & 1630.75  & 1682.9   & 1734.5   & 2487.9  \\\\\n",
       "\t 1991.527 & 1635.47  & 1697.5   & 1754.0   & 2510.5  \\\\\n",
       "\t 1991.535 & 1647.84  & 1723.8   & 1759.8   & 2532.5  \\\\\n",
       "\\end{tabular}\n"
      ],
      "text/markdown": [
       "\n",
       "x1 | x2 | x3 | x4 | y | \n",
       "|---|---|---|---|---|---|\n",
       "| 1991.496 | 1628.75  | 1678.1   | 1772.8   | 2443.6   | \n",
       "| 1991.504 | 1606.51  | 1678.6   | 1718.0   | 2448.2   | \n",
       "| 1991.512 | 1618.16  | 1686.6   | 1723.1   | 2484.7   | \n",
       "| 1991.519 | 1630.75  | 1682.9   | 1734.5   | 2487.9   | \n",
       "| 1991.527 | 1635.47  | 1697.5   | 1754.0   | 2510.5   | \n",
       "| 1991.535 | 1647.84  | 1723.8   | 1759.8   | 2532.5   | \n",
       "\n",
       "\n"
      ],
      "text/plain": [
       "  x1       x2      x3     x4     y     \n",
       "1 1991.496 1628.75 1678.1 1772.8 2443.6\n",
       "2 1991.504 1606.51 1678.6 1718.0 2448.2\n",
       "3 1991.512 1618.16 1686.6 1723.1 2484.7\n",
       "4 1991.519 1630.75 1682.9 1734.5 2487.9\n",
       "5 1991.527 1635.47 1697.5 1754.0 2510.5\n",
       "6 1991.535 1647.84 1723.8 1759.8 2532.5"
      ]
     },
     "metadata": {},
     "output_type": "display_data"
    },
    {
     "data": {
      "text/html": [
       "<ol class=list-inline>\n",
       "\t<li>1628.75</li>\n",
       "\t<li>1606.51</li>\n",
       "\t<li>1618.16</li>\n",
       "\t<li>1630.75</li>\n",
       "\t<li>1635.47</li>\n",
       "\t<li>1647.84</li>\n",
       "</ol>\n"
      ],
      "text/latex": [
       "\\begin{enumerate*}\n",
       "\\item 1628.75\n",
       "\\item 1606.51\n",
       "\\item 1618.16\n",
       "\\item 1630.75\n",
       "\\item 1635.47\n",
       "\\item 1647.84\n",
       "\\end{enumerate*}\n"
      ],
      "text/markdown": [
       "1. 1628.75\n",
       "2. 1606.51\n",
       "3. 1618.16\n",
       "4. 1630.75\n",
       "5. 1635.47\n",
       "6. 1647.84\n",
       "\n",
       "\n"
      ],
      "text/plain": [
       "[1] 1628.75 1606.51 1618.16 1630.75 1635.47 1647.84"
      ]
     },
     "metadata": {},
     "output_type": "display_data"
    }
   ],
   "source": [
    "#printing out first 5 rows of train data and labels\n",
    "head(train_data)\n",
    "head(train_label)"
   ]
  },
  {
   "cell_type": "code",
   "execution_count": 3,
   "metadata": {},
   "outputs": [
    {
     "data": {
      "text/html": [
       "<table>\n",
       "<thead><tr><th scope=col>x1</th><th scope=col>x2</th><th scope=col>x3</th><th scope=col>x4</th><th scope=col>y</th></tr></thead>\n",
       "<tbody>\n",
       "\t<tr><td>1991.500</td><td>1613.63 </td><td>1688.5  </td><td>1750.5  </td><td>2460.2  </td></tr>\n",
       "\t<tr><td>1991.508</td><td>1621.04 </td><td>1684.1  </td><td>1708.1  </td><td>2470.4  </td></tr>\n",
       "\t<tr><td>1991.515</td><td>1610.61 </td><td>1671.6  </td><td>1714.3  </td><td>2466.8  </td></tr>\n",
       "\t<tr><td>1991.523</td><td>1640.17 </td><td>1703.6  </td><td>1757.4  </td><td>2508.4  </td></tr>\n",
       "\t<tr><td>1991.531</td><td>1645.89 </td><td>1716.3  </td><td>1754.3  </td><td>2497.4  </td></tr>\n",
       "\t<tr><td>1991.538</td><td>1638.35 </td><td>1730.5  </td><td>1755.5  </td><td>2556.8  </td></tr>\n",
       "</tbody>\n",
       "</table>\n"
      ],
      "text/latex": [
       "\\begin{tabular}{r|lllll}\n",
       " x1 & x2 & x3 & x4 & y\\\\\n",
       "\\hline\n",
       "\t 1991.500 & 1613.63  & 1688.5   & 1750.5   & 2460.2  \\\\\n",
       "\t 1991.508 & 1621.04  & 1684.1   & 1708.1   & 2470.4  \\\\\n",
       "\t 1991.515 & 1610.61  & 1671.6   & 1714.3   & 2466.8  \\\\\n",
       "\t 1991.523 & 1640.17  & 1703.6   & 1757.4   & 2508.4  \\\\\n",
       "\t 1991.531 & 1645.89  & 1716.3   & 1754.3   & 2497.4  \\\\\n",
       "\t 1991.538 & 1638.35  & 1730.5   & 1755.5   & 2556.8  \\\\\n",
       "\\end{tabular}\n"
      ],
      "text/markdown": [
       "\n",
       "x1 | x2 | x3 | x4 | y | \n",
       "|---|---|---|---|---|---|\n",
       "| 1991.500 | 1613.63  | 1688.5   | 1750.5   | 2460.2   | \n",
       "| 1991.508 | 1621.04  | 1684.1   | 1708.1   | 2470.4   | \n",
       "| 1991.515 | 1610.61  | 1671.6   | 1714.3   | 2466.8   | \n",
       "| 1991.523 | 1640.17  | 1703.6   | 1757.4   | 2508.4   | \n",
       "| 1991.531 | 1645.89  | 1716.3   | 1754.3   | 2497.4   | \n",
       "| 1991.538 | 1638.35  | 1730.5   | 1755.5   | 2556.8   | \n",
       "\n",
       "\n"
      ],
      "text/plain": [
       "  x1       x2      x3     x4     y     \n",
       "1 1991.500 1613.63 1688.5 1750.5 2460.2\n",
       "2 1991.508 1621.04 1684.1 1708.1 2470.4\n",
       "3 1991.515 1610.61 1671.6 1714.3 2466.8\n",
       "4 1991.523 1640.17 1703.6 1757.4 2508.4\n",
       "5 1991.531 1645.89 1716.3 1754.3 2497.4\n",
       "6 1991.538 1638.35 1730.5 1755.5 2556.8"
      ]
     },
     "metadata": {},
     "output_type": "display_data"
    },
    {
     "data": {
      "text/html": [
       "<ol class=list-inline>\n",
       "\t<li>1613.63</li>\n",
       "\t<li>1621.04</li>\n",
       "\t<li>1610.61</li>\n",
       "\t<li>1640.17</li>\n",
       "\t<li>1645.89</li>\n",
       "\t<li>1638.35</li>\n",
       "</ol>\n"
      ],
      "text/latex": [
       "\\begin{enumerate*}\n",
       "\\item 1613.63\n",
       "\\item 1621.04\n",
       "\\item 1610.61\n",
       "\\item 1640.17\n",
       "\\item 1645.89\n",
       "\\item 1638.35\n",
       "\\end{enumerate*}\n"
      ],
      "text/markdown": [
       "1. 1613.63\n",
       "2. 1621.04\n",
       "3. 1610.61\n",
       "4. 1640.17\n",
       "5. 1645.89\n",
       "6. 1638.35\n",
       "\n",
       "\n"
      ],
      "text/plain": [
       "[1] 1613.63 1621.04 1610.61 1640.17 1645.89 1638.35"
      ]
     },
     "metadata": {},
     "output_type": "display_data"
    }
   ],
   "source": [
    "#printing out first 5 rows of test data and labels\n",
    "head(test_data)\n",
    "head(test_label)"
   ]
  },
  {
   "cell_type": "code",
   "execution_count": 4,
   "metadata": {},
   "outputs": [
    {
     "data": {
      "text/html": [
       "<ol class=list-inline>\n",
       "\t<li>930</li>\n",
       "\t<li>5</li>\n",
       "</ol>\n"
      ],
      "text/latex": [
       "\\begin{enumerate*}\n",
       "\\item 930\n",
       "\\item 5\n",
       "\\end{enumerate*}\n"
      ],
      "text/markdown": [
       "1. 930\n",
       "2. 5\n",
       "\n",
       "\n"
      ],
      "text/plain": [
       "[1] 930   5"
      ]
     },
     "metadata": {},
     "output_type": "display_data"
    },
    {
     "data": {
      "text/html": [
       "<ol class=list-inline>\n",
       "\t<li>930</li>\n",
       "\t<li>5</li>\n",
       "</ol>\n"
      ],
      "text/latex": [
       "\\begin{enumerate*}\n",
       "\\item 930\n",
       "\\item 5\n",
       "\\end{enumerate*}\n"
      ],
      "text/markdown": [
       "1. 930\n",
       "2. 5\n",
       "\n",
       "\n"
      ],
      "text/plain": [
       "[1] 930   5"
      ]
     },
     "metadata": {},
     "output_type": "display_data"
    }
   ],
   "source": [
    "#checking the dimensions of train and test datasets\n",
    "dim(train_data)\n",
    "dim(test_data)"
   ]
  },
  {
   "cell_type": "markdown",
   "metadata": {},
   "source": [
    "## Implementation of bootstrap function"
   ]
  },
  {
   "cell_type": "markdown",
   "metadata": {},
   "source": [
    "The function bootstrap takes 3 arguments orginal size of dataset(org_size), sample size, and number of datasets(times). It returns a matrix of indices where each row represents indices for one dataset."
   ]
  },
  {
   "cell_type": "code",
   "execution_count": 5,
   "metadata": {
    "scrolled": true
   },
   "outputs": [
    {
     "data": {
      "text/html": [
       "<table>\n",
       "<tbody>\n",
       "\t<tr><td>862</td><td>844</td><td>916</td><td>444</td><td>839</td><td>154</td><td>628</td><td>125</td><td>822</td><td>551</td></tr>\n",
       "\t<tr><td>498</td><td>360</td><td>533</td><td>695</td><td>552</td><td>925</td><td>648</td><td>308</td><td>578</td><td>436</td></tr>\n",
       "\t<tr><td>441</td><td>249</td><td>585</td><td>124</td><td>773</td><td>636</td><td>428</td><td>581</td><td>748</td><td>423</td></tr>\n",
       "\t<tr><td>485</td><td>153</td><td>385</td><td>789</td><td> 23</td><td>623</td><td>456</td><td> 92</td><td>550</td><td>688</td></tr>\n",
       "\t<tr><td>166</td><td>635</td><td>191</td><td>325</td><td>233</td><td>915</td><td>558</td><td>487</td><td>455</td><td>355</td></tr>\n",
       "\t<tr><td>796</td><td>510</td><td>138</td><td>910</td><td> 86</td><td>732</td><td>498</td><td>715</td><td>741</td><td>107</td></tr>\n",
       "\t<tr><td>338</td><td>470</td><td>631</td><td>636</td><td>678</td><td>657</td><td>341</td><td>321</td><td> 23</td><td>103</td></tr>\n",
       "\t<tr><td>773</td><td>846</td><td> 49</td><td>533</td><td> 52</td><td>372</td><td>506</td><td>277</td><td>379</td><td>611</td></tr>\n",
       "\t<tr><td>605</td><td>473</td><td>452</td><td>476</td><td>324</td><td>433</td><td>383</td><td>491</td><td>566</td><td>250</td></tr>\n",
       "\t<tr><td>224</td><td>537</td><td>515</td><td> 54</td><td>822</td><td>785</td><td>345</td><td>388</td><td>576</td><td>615</td></tr>\n",
       "</tbody>\n",
       "</table>\n"
      ],
      "text/latex": [
       "\\begin{tabular}{llllllllll}\n",
       "\t 862 & 844 & 916 & 444 & 839 & 154 & 628 & 125 & 822 & 551\\\\\n",
       "\t 498 & 360 & 533 & 695 & 552 & 925 & 648 & 308 & 578 & 436\\\\\n",
       "\t 441 & 249 & 585 & 124 & 773 & 636 & 428 & 581 & 748 & 423\\\\\n",
       "\t 485 & 153 & 385 & 789 &  23 & 623 & 456 &  92 & 550 & 688\\\\\n",
       "\t 166 & 635 & 191 & 325 & 233 & 915 & 558 & 487 & 455 & 355\\\\\n",
       "\t 796 & 510 & 138 & 910 &  86 & 732 & 498 & 715 & 741 & 107\\\\\n",
       "\t 338 & 470 & 631 & 636 & 678 & 657 & 341 & 321 &  23 & 103\\\\\n",
       "\t 773 & 846 &  49 & 533 &  52 & 372 & 506 & 277 & 379 & 611\\\\\n",
       "\t 605 & 473 & 452 & 476 & 324 & 433 & 383 & 491 & 566 & 250\\\\\n",
       "\t 224 & 537 & 515 &  54 & 822 & 785 & 345 & 388 & 576 & 615\\\\\n",
       "\\end{tabular}\n"
      ],
      "text/markdown": [
       "\n",
       "| 862 | 844 | 916 | 444 | 839 | 154 | 628 | 125 | 822 | 551 | \n",
       "| 498 | 360 | 533 | 695 | 552 | 925 | 648 | 308 | 578 | 436 | \n",
       "| 441 | 249 | 585 | 124 | 773 | 636 | 428 | 581 | 748 | 423 | \n",
       "| 485 | 153 | 385 | 789 |  23 | 623 | 456 |  92 | 550 | 688 | \n",
       "| 166 | 635 | 191 | 325 | 233 | 915 | 558 | 487 | 455 | 355 | \n",
       "| 796 | 510 | 138 | 910 |  86 | 732 | 498 | 715 | 741 | 107 | \n",
       "| 338 | 470 | 631 | 636 | 678 | 657 | 341 | 321 |  23 | 103 | \n",
       "| 773 | 846 |  49 | 533 |  52 | 372 | 506 | 277 | 379 | 611 | \n",
       "| 605 | 473 | 452 | 476 | 324 | 433 | 383 | 491 | 566 | 250 | \n",
       "| 224 | 537 | 515 |  54 | 822 | 785 | 345 | 388 | 576 | 615 | \n",
       "\n",
       "\n"
      ],
      "text/plain": [
       "      [,1] [,2] [,3] [,4] [,5] [,6] [,7] [,8] [,9] [,10]\n",
       " [1,] 862  844  916  444  839  154  628  125  822  551  \n",
       " [2,] 498  360  533  695  552  925  648  308  578  436  \n",
       " [3,] 441  249  585  124  773  636  428  581  748  423  \n",
       " [4,] 485  153  385  789   23  623  456   92  550  688  \n",
       " [5,] 166  635  191  325  233  915  558  487  455  355  \n",
       " [6,] 796  510  138  910   86  732  498  715  741  107  \n",
       " [7,] 338  470  631  636  678  657  341  321   23  103  \n",
       " [8,] 773  846   49  533   52  372  506  277  379  611  \n",
       " [9,] 605  473  452  476  324  433  383  491  566  250  \n",
       "[10,] 224  537  515   54  822  785  345  388  576  615  "
      ]
     },
     "metadata": {},
     "output_type": "display_data"
    }
   ],
   "source": [
    "#function that generates sample indices for each dataset, which is based on bootstrap technique\n",
    "bootstrap <- function(org_size, sample_size, times){\n",
    "    ind <- matrix(nrow=times, ncol=sample_size)\n",
    "    for(i in 1:times){\n",
    "        ind[i,] <- sample(x=org_size, size = sample_size, replace = TRUE)\n",
    "    }\n",
    "    return(ind)\n",
    "}\n",
    "\n",
    "bootstrap(nrow(train_data), 10, 10) #just an example"
   ]
  },
  {
   "cell_type": "markdown",
   "metadata": {},
   "source": [
    "## Implementation of KNN regressor"
   ]
  },
  {
   "cell_type": "markdown",
   "metadata": {},
   "source": [
    "As mentioned in the question 1, we implement a function of KNN regressor"
   ]
  },
  {
   "cell_type": "code",
   "execution_count": 6,
   "metadata": {},
   "outputs": [],
   "source": [
    "#function to calcuate the average of the neighbour's values\n",
    "avg_neighbours <- function(x) {\n",
    "    avg <- mean(x)\n",
    "    return(avg)\n",
    "}\n",
    "\n",
    "#KNN regressor function\n",
    "knn_regressor <- function(train_data, train_label, test_data, K=3){\n",
    "    \n",
    "    train_len <- nrow(train_data) #length of train data\n",
    "    test_len <- nrow(test_data) #length of test data\n",
    "    \n",
    "    #distance matrix which calculates the distance between data points\n",
    "    dist <- as.matrix(dist(rbind(test_data, train_data), method= \"euclidean\"))[1:test_len, (test_len+1):(test_len+train_len)]\n",
    "    \n",
    "    regressed_vals <- c() #empty vector to store regressed values\n",
    "    \n",
    "    #iterating through the test data points\n",
    "    for (i in 1:test_len){\n",
    "        #finding the K nearest neighbours indices\n",
    "        ind <- as.data.frame(sort(dist[i,], index.return = TRUE))[1:K,2] \n",
    "        \n",
    "        d <- avg_neighbours(train_label[ind]) #calling the avg_distance function, argument as nearest training points\n",
    "        regressed_vals <- c(regressed_vals, d) #storing the calcuated regressed value int he vector created\n",
    "    }\n",
    "    \n",
    "   return(regressed_vals) #returns the regressed values\n",
    "\n",
    "}"
   ]
  },
  {
   "cell_type": "markdown",
   "metadata": {},
   "source": [
    "## Bootstrapping for KNN regression with times = 100 , size = 30, and K = 1 to 20"
   ]
  },
  {
   "cell_type": "code",
   "execution_count": 7,
   "metadata": {},
   "outputs": [],
   "source": [
    "K <- 20 #maximum K for KNN\n",
    "S <- 30 #dataset size\n",
    "T <- 100 #number of datasets\n",
    "\n",
    "#creating a matrix of indices for each dataset.\n",
    "#It contains 100 rows, where each row represents a dataset which consists of 30 sample indices.\n",
    "boot_indx <- bootstrap(nrow(train_data), S, T) \n",
    "\n",
    "# a dataframe to store the generated test errors\n",
    "error <- data.frame('K'=1:K, 'T'=1:T, 'test'=rep(0,T*K))\n",
    "\n",
    "# for each k value\n",
    "for (k in 1: K){\n",
    "    \n",
    "    # for every dataset\n",
    "    for (t in 1:T){\n",
    "        \n",
    "        # calculate iteration index i\n",
    "        i <- (k-1)*T+t\n",
    "        \n",
    "        # save sample indices that were selected by bootstrap\n",
    "        indx <- boot_indx[t,]\n",
    "        \n",
    "        # store the value of k and t in the dataframe\n",
    "        error[i,'K'] <- k\n",
    "        error[i,'T'] <- t\n",
    "        \n",
    "        #calling the knn regressor function which returns the regressed values\n",
    "        y_test <- knn_regressor(train_data[indx,], train_label[indx], test_data, K=k)\n",
    "    \n",
    "        #calcuation of root mean square error and storing it in dataframe created above\n",
    "        error[i, 'test'] <- sqrt(mean((test_label - y_test)^2))\n",
    "\n",
    "    } \n",
    "}"
   ]
  },
  {
   "cell_type": "code",
   "execution_count": 8,
   "metadata": {},
   "outputs": [
    {
     "data": {
      "text/html": [
       "<table>\n",
       "<thead><tr><th scope=col>K</th><th scope=col>T</th><th scope=col>test</th></tr></thead>\n",
       "<tbody>\n",
       "\t<tr><td>1       </td><td>1       </td><td>211.8296</td></tr>\n",
       "\t<tr><td>1       </td><td>2       </td><td>203.6174</td></tr>\n",
       "\t<tr><td>1       </td><td>3       </td><td>182.5693</td></tr>\n",
       "\t<tr><td>1       </td><td>4       </td><td>107.8505</td></tr>\n",
       "\t<tr><td>1       </td><td>5       </td><td>180.6968</td></tr>\n",
       "\t<tr><td>1       </td><td>6       </td><td>129.7080</td></tr>\n",
       "</tbody>\n",
       "</table>\n"
      ],
      "text/latex": [
       "\\begin{tabular}{r|lll}\n",
       " K & T & test\\\\\n",
       "\\hline\n",
       "\t 1        & 1        & 211.8296\\\\\n",
       "\t 1        & 2        & 203.6174\\\\\n",
       "\t 1        & 3        & 182.5693\\\\\n",
       "\t 1        & 4        & 107.8505\\\\\n",
       "\t 1        & 5        & 180.6968\\\\\n",
       "\t 1        & 6        & 129.7080\\\\\n",
       "\\end{tabular}\n"
      ],
      "text/markdown": [
       "\n",
       "K | T | test | \n",
       "|---|---|---|---|---|---|\n",
       "| 1        | 1        | 211.8296 | \n",
       "| 1        | 2        | 203.6174 | \n",
       "| 1        | 3        | 182.5693 | \n",
       "| 1        | 4        | 107.8505 | \n",
       "| 1        | 5        | 180.6968 | \n",
       "| 1        | 6        | 129.7080 | \n",
       "\n",
       "\n"
      ],
      "text/plain": [
       "  K T test    \n",
       "1 1 1 211.8296\n",
       "2 1 2 203.6174\n",
       "3 1 3 182.5693\n",
       "4 1 4 107.8505\n",
       "5 1 5 180.6968\n",
       "6 1 6 129.7080"
      ]
     },
     "metadata": {},
     "output_type": "display_data"
    }
   ],
   "source": [
    "head(error) #printing the first few rows of the dataframe"
   ]
  },
  {
   "cell_type": "markdown",
   "metadata": {},
   "source": [
    "## Plotting error vs K in a box plot"
   ]
  },
  {
   "cell_type": "markdown",
   "metadata": {},
   "source": [
    "## Loading libraries"
   ]
  },
  {
   "cell_type": "code",
   "execution_count": 9,
   "metadata": {},
   "outputs": [
    {
     "name": "stderr",
     "output_type": "stream",
     "text": [
      "Warning message:\n",
      "\"package 'reshape' was built under R version 3.4.4\""
     ]
    }
   ],
   "source": [
    "library(reshape) #used to restructure the data in dataframe\n",
    "library(ggplot2) #used to plot graphs"
   ]
  },
  {
   "cell_type": "code",
   "execution_count": 10,
   "metadata": {
    "scrolled": true
   },
   "outputs": [
    {
     "data": {},
     "metadata": {},
     "output_type": "display_data"
    },
    {
     "data": {
      "image/png": "[encoded data removed]",
      "text/plain": [
       "plot without title"
      ]
     },
     "metadata": {},
     "output_type": "display_data"
    }
   ],
   "source": [
    "#reshaping the data frame\n",
    "error_df <- melt(error, id=c('K', 'T')) \n",
    "names(error_df) <- c('K', 'T', 'type', 'error') #assigning column names\n",
    "\n",
    "#plotting errorm vs K in a box plot\n",
    "ggplot(data=error_df[error_df$type=='test',], aes(factor(K), error,fill=type)) + geom_boxplot(outlier.shape = NA)  + \n",
    "    scale_color_discrete(guide = guide_legend(title = NULL)) + \n",
    "    ggtitle('Error vs. K') + theme_minimal()\n",
    "# ignore the warnings (because of ignoring outliers)\n",
    "options(warn=-1)"
   ]
  },
  {
   "cell_type": "markdown",
   "metadata": {},
   "source": [
    "## Test error and its uncertainity vs. K "
   ]
  },
  {
   "cell_type": "markdown",
   "metadata": {},
   "source": [
    "From the above boxplot, we observe that the test error and uncertainity increases as the value of K increases. However, the uncertainity around the error starts to decrease as K becomes higher even though the test error increases."
   ]
  },
  {
   "cell_type": "markdown",
   "metadata": {},
   "source": [
    "## Bootstrapping for KNN regression with K = 10, size = 30, and times = 10 to 200"
   ]
  },
  {
   "cell_type": "code",
   "execution_count": null,
   "metadata": {},
   "outputs": [],
   "source": [
    "K <- 10 #K for KNN\n",
    "S <- 30 #dataset size\n",
    "T <- seq(10,200,by=10) #creating a sequence of number of datasets\n",
    "\n",
    "#creating an empty dataframe \n",
    "error_df <- data.frame()   \n",
    "\n",
    "# for each time\n",
    "for (t in T){\n",
    "    \n",
    "    #creating a matrix of indices for each dataset.\n",
    "    #It contains t rows, where each row represents a dataset which consists of 30 sample indices.\n",
    "    boot_indx <- bootstrap(nrow(train_data), S, t)\n",
    "    \n",
    "    #dataframe to store the error values\n",
    "    error <- data.frame('T'=t, 'test'=rep(0,t))\n",
    "    \n",
    "    #for each dataset\n",
    "    for (i in 1:t){\n",
    "        \n",
    "        # save sample indices that were selected by bootstrap\n",
    "        indx <- boot_indx[i,]\n",
    "        \n",
    "        #storing t value\n",
    "        error[i,'T'] <- t\n",
    "        \n",
    "        #calling the knn regressor function which returns the regressed values\n",
    "        y_test <- knn_regressor(train_data[indx,], train_label[indx], test_data, K=10)\n",
    "    \n",
    "        #calcuation of root mean square error and storing it in dataframe created above\n",
    "        error[i, 'test'] <- sqrt(mean((test_label - y_test)^2))\n",
    "\n",
    "} \n",
    "    error_df <- rbind(error_df, error) #appending data frame for each time to the dataframe created outside the loop\n",
    "}"
   ]
  },
  {
   "cell_type": "code",
   "execution_count": null,
   "metadata": {},
   "outputs": [],
   "source": [
    "head(error_df) #printing the first few rows"
   ]
  },
  {
   "cell_type": "markdown",
   "metadata": {},
   "source": [
    "## Plotting error vs number of datasets(times) in a box plot"
   ]
  },
  {
   "cell_type": "code",
   "execution_count": null,
   "metadata": {
    "scrolled": true
   },
   "outputs": [],
   "source": [
    "#reshaping the data frame\n",
    "error_final <- melt(error_df, id= 'T') \n",
    "names(error_final) <- c('T', 'type', 'error') #assigning column names\n",
    "\n",
    "#plotting error vs times in a box plot\n",
    "ggplot(data=error_final[error_final$type=='test',], aes(factor(T), error,fill=type)) + geom_boxplot(outlier.shape = NA)  + \n",
    "    scale_color_discrete(guide = guide_legend(title = NULL)) + \n",
    "    ggtitle('Error vs. T') + theme_minimal()\n",
    "# ignore the warnings (because of ignoring outliers)\n",
    "options(warn=-1)"
   ]
  },
  {
   "cell_type": "markdown",
   "metadata": {},
   "source": [
    "## Test error and its uncertainity vs Number of datasets used in bootstrapping"
   ]
  },
  {
   "cell_type": "markdown",
   "metadata": {},
   "source": [
    "From the above box plot, we can see that the test error and uncertainity is least for 20 datasets. But there is absolutely no pattern as the number of datasets increases. The test error and uncertainity is distributed randomly as we increase the number of datasets. "
   ]
  }
 ],
 "metadata": {
  "kernelspec": {
   "display_name": "R",
   "language": "R",
   "name": "ir"
  },
  "language_info": {
   "codemirror_mode": "r",
   "file_extension": ".r",
   "mimetype": "text/x-r-source",
   "name": "R",
   "pygments_lexer": "r",
   "version": "3.4.3"
  }
 },
 "nbformat": 4,
 "nbformat_minor": 2
}
