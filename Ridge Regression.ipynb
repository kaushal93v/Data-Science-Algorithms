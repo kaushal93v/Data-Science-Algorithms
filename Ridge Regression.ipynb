{
 "cells": [
  {
   "cell_type": "markdown",
   "metadata": {},
   "source": [
    "# Ridge Regression"
   ]
  },
  {
   "cell_type": "markdown",
   "metadata": {},
   "source": [
    "## Loading train and test data"
   ]
  },
  {
   "cell_type": "code",
   "execution_count": 25,
   "metadata": {},
   "outputs": [],
   "source": [
    "#loading training data\n",
    "train_data <- read.csv(\"Task1C_train.csv\")\n",
    "train_data <- scale(train_data) #scaling the data\n",
    "train_label <- train_data[1:nrow(train_data),5] #creating the training labels\n",
    "train_data <- train_data[1:nrow(train_data),1:4] #creating predictors\n",
    "\n",
    "\n",
    "#loading testing data\n",
    "test_data <- read.csv(\"Task1C_test.csv\")\n",
    "test_data <- scale(test_data) #scaling the data\n",
    "test_label <- test_data[1:nrow(test_data),5] #creating the testing labels\n",
    "test_data <- test_data[1:nrow(test_data),1:4] #creating predictors"
   ]
  },
  {
   "cell_type": "code",
   "execution_count": 26,
   "metadata": {},
   "outputs": [
    {
     "data": {
      "text/html": [
       "<table>\n",
       "<thead><tr><th scope=col>x1</th><th scope=col>x2</th><th scope=col>x3</th><th scope=col>x4</th></tr></thead>\n",
       "<tbody>\n",
       "\t<tr><td>-1.729259 </td><td>-0.8314871</td><td>-1.0209430</td><td>-0.7844105</td></tr>\n",
       "\t<tr><td>-1.725536 </td><td>-0.8520287</td><td>-1.0206420</td><td>-0.8790979</td></tr>\n",
       "\t<tr><td>-1.721813 </td><td>-0.8412684</td><td>-1.0158255</td><td>-0.8702858</td></tr>\n",
       "\t<tr><td>-1.718090 </td><td>-0.8296399</td><td>-1.0180531</td><td>-0.8505881</td></tr>\n",
       "\t<tr><td>-1.714368 </td><td>-0.8252803</td><td>-1.0092629</td><td>-0.8168945</td></tr>\n",
       "\t<tr><td>-1.710645 </td><td>-0.8138550</td><td>-0.9934286</td><td>-0.8068729</td></tr>\n",
       "</tbody>\n",
       "</table>\n"
      ],
      "text/latex": [
       "\\begin{tabular}{llll}\n",
       " x1 & x2 & x3 & x4\\\\\n",
       "\\hline\n",
       "\t -1.729259  & -0.8314871 & -1.0209430 & -0.7844105\\\\\n",
       "\t -1.725536  & -0.8520287 & -1.0206420 & -0.8790979\\\\\n",
       "\t -1.721813  & -0.8412684 & -1.0158255 & -0.8702858\\\\\n",
       "\t -1.718090  & -0.8296399 & -1.0180531 & -0.8505881\\\\\n",
       "\t -1.714368  & -0.8252803 & -1.0092629 & -0.8168945\\\\\n",
       "\t -1.710645  & -0.8138550 & -0.9934286 & -0.8068729\\\\\n",
       "\\end{tabular}\n"
      ],
      "text/markdown": [
       "\n",
       "x1 | x2 | x3 | x4 | \n",
       "|---|---|---|---|---|---|\n",
       "| -1.729259  | -0.8314871 | -1.0209430 | -0.7844105 | \n",
       "| -1.725536  | -0.8520287 | -1.0206420 | -0.8790979 | \n",
       "| -1.721813  | -0.8412684 | -1.0158255 | -0.8702858 | \n",
       "| -1.718090  | -0.8296399 | -1.0180531 | -0.8505881 | \n",
       "| -1.714368  | -0.8252803 | -1.0092629 | -0.8168945 | \n",
       "| -1.710645  | -0.8138550 | -0.9934286 | -0.8068729 | \n",
       "\n",
       "\n"
      ],
      "text/plain": [
       "     x1        x2         x3         x4        \n",
       "[1,] -1.729259 -0.8314871 -1.0209430 -0.7844105\n",
       "[2,] -1.725536 -0.8520287 -1.0206420 -0.8790979\n",
       "[3,] -1.721813 -0.8412684 -1.0158255 -0.8702858\n",
       "[4,] -1.718090 -0.8296399 -1.0180531 -0.8505881\n",
       "[5,] -1.714368 -0.8252803 -1.0092629 -0.8168945\n",
       "[6,] -1.710645 -0.8138550 -0.9934286 -0.8068729"
      ]
     },
     "metadata": {},
     "output_type": "display_data"
    },
    {
     "data": {
      "text/html": [
       "<ol class=list-inline>\n",
       "\t<li>-1.14832301439748</li>\n",
       "\t<li>-1.14361016761835</li>\n",
       "\t<li>-1.10621475295792</li>\n",
       "\t<li>-1.1029362508507</li>\n",
       "\t<li>-1.07978182971849</li>\n",
       "\t<li>-1.05724212773138</li>\n",
       "</ol>\n"
      ],
      "text/latex": [
       "\\begin{enumerate*}\n",
       "\\item -1.14832301439748\n",
       "\\item -1.14361016761835\n",
       "\\item -1.10621475295792\n",
       "\\item -1.1029362508507\n",
       "\\item -1.07978182971849\n",
       "\\item -1.05724212773138\n",
       "\\end{enumerate*}\n"
      ],
      "text/markdown": [
       "1. -1.14832301439748\n",
       "2. -1.14361016761835\n",
       "3. -1.10621475295792\n",
       "4. -1.1029362508507\n",
       "5. -1.07978182971849\n",
       "6. -1.05724212773138\n",
       "\n",
       "\n"
      ],
      "text/plain": [
       "[1] -1.148323 -1.143610 -1.106215 -1.102936 -1.079782 -1.057242"
      ]
     },
     "metadata": {},
     "output_type": "display_data"
    }
   ],
   "source": [
    "#printing few rows\n",
    "head(train_data)\n",
    "head(train_label)"
   ]
  },
  {
   "cell_type": "code",
   "execution_count": 27,
   "metadata": {},
   "outputs": [
    {
     "data": {
      "text/html": [
       "<table>\n",
       "<thead><tr><th scope=col>x1</th><th scope=col>x2</th><th scope=col>x3</th><th scope=col>x4</th></tr></thead>\n",
       "<tbody>\n",
       "\t<tr><td>-1.729259 </td><td>-0.8447954</td><td>-1.0144788</td><td>-0.8216982</td></tr>\n",
       "\t<tr><td>-1.725536 </td><td>-0.8379815</td><td>-1.0171199</td><td>-0.8945270</td></tr>\n",
       "\t<tr><td>-1.721813 </td><td>-0.8475725</td><td>-1.0246229</td><td>-0.8838775</td></tr>\n",
       "\t<tr><td>-1.718090 </td><td>-0.8203904</td><td>-1.0054151</td><td>-0.8098463</td></tr>\n",
       "\t<tr><td>-1.714368 </td><td>-0.8151305</td><td>-0.9977921</td><td>-0.8151711</td></tr>\n",
       "\t<tr><td>-1.710645 </td><td>-0.8220640</td><td>-0.9892686</td><td>-0.8131099</td></tr>\n",
       "</tbody>\n",
       "</table>\n"
      ],
      "text/latex": [
       "\\begin{tabular}{llll}\n",
       " x1 & x2 & x3 & x4\\\\\n",
       "\\hline\n",
       "\t -1.729259  & -0.8447954 & -1.0144788 & -0.8216982\\\\\n",
       "\t -1.725536  & -0.8379815 & -1.0171199 & -0.8945270\\\\\n",
       "\t -1.721813  & -0.8475725 & -1.0246229 & -0.8838775\\\\\n",
       "\t -1.718090  & -0.8203904 & -1.0054151 & -0.8098463\\\\\n",
       "\t -1.714368  & -0.8151305 & -0.9977921 & -0.8151711\\\\\n",
       "\t -1.710645  & -0.8220640 & -0.9892686 & -0.8131099\\\\\n",
       "\\end{tabular}\n"
      ],
      "text/markdown": [
       "\n",
       "x1 | x2 | x3 | x4 | \n",
       "|---|---|---|---|---|---|\n",
       "| -1.729259  | -0.8447954 | -1.0144788 | -0.8216982 | \n",
       "| -1.725536  | -0.8379815 | -1.0171199 | -0.8945270 | \n",
       "| -1.721813  | -0.8475725 | -1.0246229 | -0.8838775 | \n",
       "| -1.718090  | -0.8203904 | -1.0054151 | -0.8098463 | \n",
       "| -1.714368  | -0.8151305 | -0.9977921 | -0.8151711 | \n",
       "| -1.710645  | -0.8220640 | -0.9892686 | -0.8131099 | \n",
       "\n",
       "\n"
      ],
      "text/plain": [
       "     x1        x2         x3         x4        \n",
       "[1,] -1.729259 -0.8447954 -1.0144788 -0.8216982\n",
       "[2,] -1.725536 -0.8379815 -1.0171199 -0.8945270\n",
       "[3,] -1.721813 -0.8475725 -1.0246229 -0.8838775\n",
       "[4,] -1.718090 -0.8203904 -1.0054151 -0.8098463\n",
       "[5,] -1.714368 -0.8151305 -0.9977921 -0.8151711\n",
       "[6,] -1.710645 -0.8220640 -0.9892686 -0.8131099"
      ]
     },
     "metadata": {},
     "output_type": "display_data"
    },
    {
     "data": {
      "text/html": [
       "<ol class=list-inline>\n",
       "\t<li>-1.13167062381489</li>\n",
       "\t<li>-1.12124009674038</li>\n",
       "\t<li>-1.12492145923727</li>\n",
       "\t<li>-1.08238127038434</li>\n",
       "\t<li>-1.09362987801372</li>\n",
       "\t<li>-1.03288739681506</li>\n",
       "</ol>\n"
      ],
      "text/latex": [
       "\\begin{enumerate*}\n",
       "\\item -1.13167062381489\n",
       "\\item -1.12124009674038\n",
       "\\item -1.12492145923727\n",
       "\\item -1.08238127038434\n",
       "\\item -1.09362987801372\n",
       "\\item -1.03288739681506\n",
       "\\end{enumerate*}\n"
      ],
      "text/markdown": [
       "1. -1.13167062381489\n",
       "2. -1.12124009674038\n",
       "3. -1.12492145923727\n",
       "4. -1.08238127038434\n",
       "5. -1.09362987801372\n",
       "6. -1.03288739681506\n",
       "\n",
       "\n"
      ],
      "text/plain": [
       "[1] -1.131671 -1.121240 -1.124921 -1.082381 -1.093630 -1.032887"
      ]
     },
     "metadata": {},
     "output_type": "display_data"
    }
   ],
   "source": [
    "#printing few rows\n",
    "head(test_data)\n",
    "head(test_label)"
   ]
  },
  {
   "cell_type": "markdown",
   "metadata": {},
   "source": [
    "## Loading Libraries"
   ]
  },
  {
   "cell_type": "code",
   "execution_count": 28,
   "metadata": {},
   "outputs": [],
   "source": [
    "#load required packages\n",
    "library(ggplot2) # for plotting functions.\n",
    "library(reshape2) # for melting dataframes\n",
    "\n",
    "set.seed(1234)#initialization"
   ]
  },
  {
   "cell_type": "markdown",
   "metadata": {},
   "source": [
    "## Implementation of SGD and BGD algorithms "
   ]
  },
  {
   "cell_type": "markdown",
   "metadata": {},
   "source": [
    "## Auxilary functions\n",
    "To produce a clean and readable code, let us first define some auxiliary function that calculate the prediction and cost based on the projected data and estimated coefficients."
   ]
  },
  {
   "cell_type": "code",
   "execution_count": 29,
   "metadata": {},
   "outputs": [],
   "source": [
    "# auxiliary function to calculate labels based on the estimated coefficients\n",
    "predict_func <- function(Phi, w){\n",
    "    return(Phi%*%w)\n",
    "} \n",
    "\n",
    "# auxiliary function to calculate a cost function\n",
    "error_func <- function (Phi, w, label, lambda){\n",
    "    return(mean((predict_func(Phi, w) - label)^2) + .5 * lambda * w %*% w)\n",
    "}"
   ]
  },
  {
   "cell_type": "markdown",
   "metadata": {},
   "source": [
    "## SGD Algorithm"
   ]
  },
  {
   "cell_type": "code",
   "execution_count": 30,
   "metadata": {},
   "outputs": [],
   "source": [
    "# Stochastic Gradient Descent\n",
    "sgd <- function(train_data, train_label) {\n",
    "    epsilon = 0.01 #termination threshold\n",
    "    eta = 0.01 #learning rate\n",
    "    lambda = 0.002 #regularisation parameter\n",
    "    max_wt = 18 #maximum number of weight updates\n",
    "    N = dim(train_data)[1] #number of training points\n",
    "    tau_max = max_wt * N # Maximum number of iterations\n",
    "\n",
    "    W <- matrix(,nrow=tau_max, ncol=ncol(train_data)) # empty matrix to store weight vector\n",
    "    W[1,] <- runif(ncol(train_data)) #initializing values to parameters\n",
    "\n",
    "    tau = 1 # counter \n",
    "    obj_func <-matrix(,nrow=tau_max, ncol=1) #creating empty matrix of objective function\n",
    "    obj_func[tau,1] = error_func(train_data, W[tau,],train_label, lambda) \n",
    "\n",
    "    while (tau <= tau_max){\n",
    "\n",
    "       #check termination criteria\n",
    "       if (obj_func[tau,1]<=epsilon) {break}\n",
    "\n",
    "       #shuffle data:\n",
    "       train_ind <- sample(1:N, N, replace = FALSE)\n",
    "\n",
    "       # for each datapoint\n",
    "       for (i in train_ind) {\n",
    "           # increment the counter\n",
    "           tau <- tau + 1\n",
    "           if (tau > tau_max) {break}\n",
    "\n",
    "           # weight update\n",
    "           y_pred <- predict_func(train_data[i,], W[tau-1,])\n",
    "           gradient = - (train_label[i]-y_pred) * train_data[i,] + (lambda * W[tau-1,])\n",
    "           W[tau,] <- W[tau-1,] - eta * gradient\n",
    "\n",
    "           # training error\n",
    "           obj_func[tau,1] = error_func(train_data, W[tau,],train_label, lambda)\n",
    "       }\n",
    "    }\n",
    "    # resulting values for the weights and training error\n",
    "    return(list('train_error' = obj_func,'W' = W))\n",
    "}"
   ]
  },
  {
   "cell_type": "markdown",
   "metadata": {},
   "source": [
    "## BGD Algorithm"
   ]
  },
  {
   "cell_type": "code",
   "execution_count": 31,
   "metadata": {},
   "outputs": [],
   "source": [
    "# Batch Gradient Descent \n",
    "bgd <- function(train_data, train_label) {\n",
    "    \n",
    "    epsilon = 0.01 #termination threshold\n",
    "    eta = 0.01 #learning rate\n",
    "    lambda = 0.002 #regularisation parameter\n",
    "    max_wt = 18 #maximum number of weight updates\n",
    "    N = dim(train_data)[1] #number of training points\n",
    "    N_col = dim(train_data)[2] #number of parameters\n",
    "    W <- matrix(,nrow=(max_wt), ncol=ncol(train_data)) # empty matrix to store weight vector\n",
    "    W[1,] <- runif(ncol(train_data))\n",
    "\n",
    "    tau = 1 # counter \n",
    "    obj_func <-matrix(,nrow=(max_wt), ncol=1) #creating empty matrix of objective function\n",
    "    obj_func[tau,1] = error_func(train_data, W[tau,],train_label, lambda) \n",
    "\n",
    "    for (tau in 1:(max_wt-1)){\n",
    "\n",
    "       # check termination criteria\n",
    "       if (obj_func[tau,1]<=epsilon) {break}\n",
    "\n",
    "       # make prediction over the training set\n",
    "       y_pred = predict_func(train_data, W[tau,])\n",
    "       gradient = -colMeans(matrix((train_label-y_pred),nrow=N,ncol=N_col) * train_data) + (lambda * W[tau,])\n",
    "       # update the weight\n",
    "       W[tau+1,] = W[tau,] - eta * gradient\n",
    "\n",
    "       # training error\n",
    "       obj_func[tau+1,1] = error_func(train_data, W[tau+1,],train_label, lambda)\n",
    "    } \n",
    "    # resulting values for the weights and training errors\n",
    "    return(list('train_error' = obj_func,'W' = W))\n",
    "}"
   ]
  },
  {
   "cell_type": "markdown",
   "metadata": {},
   "source": [
    "## Implementation of SGD and BGD "
   ]
  },
  {
   "cell_type": "code",
   "execution_count": 32,
   "metadata": {},
   "outputs": [],
   "source": [
    "options(warn=-1) #to stop the warnings\n",
    "sgd_w = sgd(train_data, train_label) # call sgd function\n",
    "errors_sgd = sgd_w$train_error\n",
    "\n",
    "# Adding iteration number and colnames to errors matrix of sgd\n",
    "iteration <- matrix(1:nrow(errors_sgd), nrow = nrow(errors_sgd), ncol = 1)\n",
    "errors_sgd <- cbind(iteration, errors_sgd)\n",
    "colnames(errors_sgd) <- c('Iteration','train_error')\n",
    "\n",
    "bgd_w = bgd(train_data, train_label) #call bgd function\n",
    "errors_bgd = bgd_w$train_error\n",
    "\n",
    "# Adding iteration number and colnames to errors matrix of bgd\n",
    "iteration <- matrix(1:nrow(errors_bgd), nrow = nrow(errors_bgd), ncol = 1)\n",
    "errors_bgd <- cbind(iteration*nrow(train_data), errors_bgd) # Adjusting scale of bgd iteration to match with sgd iteration\n",
    "colnames(errors_bgd) <- c('Iteration','train_error')"
   ]
  },
  {
   "cell_type": "code",
   "execution_count": 33,
   "metadata": {
    "scrolled": true
   },
   "outputs": [
    {
     "data": {
      "text/html": [
       "<table>\n",
       "<thead><tr><th scope=col>Iteration</th><th scope=col>train_error</th></tr></thead>\n",
       "<tbody>\n",
       "\t<tr><td>1        </td><td>0.9568091</td></tr>\n",
       "\t<tr><td>2        </td><td>0.8552181</td></tr>\n",
       "\t<tr><td>3        </td><td>0.8521874</td></tr>\n",
       "\t<tr><td>4        </td><td>0.8018446</td></tr>\n",
       "\t<tr><td>5        </td><td>0.7769267</td></tr>\n",
       "\t<tr><td>6        </td><td>0.7771792</td></tr>\n",
       "</tbody>\n",
       "</table>\n"
      ],
      "text/latex": [
       "\\begin{tabular}{ll}\n",
       " Iteration & train\\_error\\\\\n",
       "\\hline\n",
       "\t 1         & 0.9568091\\\\\n",
       "\t 2         & 0.8552181\\\\\n",
       "\t 3         & 0.8521874\\\\\n",
       "\t 4         & 0.8018446\\\\\n",
       "\t 5         & 0.7769267\\\\\n",
       "\t 6         & 0.7771792\\\\\n",
       "\\end{tabular}\n"
      ],
      "text/markdown": [
       "\n",
       "Iteration | train_error | \n",
       "|---|---|---|---|---|---|\n",
       "| 1         | 0.9568091 | \n",
       "| 2         | 0.8552181 | \n",
       "| 3         | 0.8521874 | \n",
       "| 4         | 0.8018446 | \n",
       "| 5         | 0.7769267 | \n",
       "| 6         | 0.7771792 | \n",
       "\n",
       "\n"
      ],
      "text/plain": [
       "     Iteration train_error\n",
       "[1,] 1         0.9568091  \n",
       "[2,] 2         0.8552181  \n",
       "[3,] 3         0.8521874  \n",
       "[4,] 4         0.8018446  \n",
       "[5,] 5         0.7769267  \n",
       "[6,] 6         0.7771792  "
      ]
     },
     "metadata": {},
     "output_type": "display_data"
    },
    {
     "data": {
      "text/html": [
       "<table>\n",
       "<thead><tr><th scope=col>Iteration</th><th scope=col>train_error</th></tr></thead>\n",
       "<tbody>\n",
       "\t<tr><td> 930     </td><td>0.3773967</td></tr>\n",
       "\t<tr><td>1860     </td><td>0.3510648</td></tr>\n",
       "\t<tr><td>2790     </td><td>0.3266425</td></tr>\n",
       "\t<tr><td>3720     </td><td>0.3039913</td></tr>\n",
       "\t<tr><td>4650     </td><td>0.2829827</td></tr>\n",
       "\t<tr><td>5580     </td><td>0.2634976</td></tr>\n",
       "</tbody>\n",
       "</table>\n"
      ],
      "text/latex": [
       "\\begin{tabular}{ll}\n",
       " Iteration & train\\_error\\\\\n",
       "\\hline\n",
       "\t  930      & 0.3773967\\\\\n",
       "\t 1860      & 0.3510648\\\\\n",
       "\t 2790      & 0.3266425\\\\\n",
       "\t 3720      & 0.3039913\\\\\n",
       "\t 4650      & 0.2829827\\\\\n",
       "\t 5580      & 0.2634976\\\\\n",
       "\\end{tabular}\n"
      ],
      "text/markdown": [
       "\n",
       "Iteration | train_error | \n",
       "|---|---|---|---|---|---|\n",
       "|  930      | 0.3773967 | \n",
       "| 1860      | 0.3510648 | \n",
       "| 2790      | 0.3266425 | \n",
       "| 3720      | 0.3039913 | \n",
       "| 4650      | 0.2829827 | \n",
       "| 5580      | 0.2634976 | \n",
       "\n",
       "\n"
      ],
      "text/plain": [
       "     Iteration train_error\n",
       "[1,]  930      0.3773967  \n",
       "[2,] 1860      0.3510648  \n",
       "[3,] 2790      0.3266425  \n",
       "[4,] 3720      0.3039913  \n",
       "[5,] 4650      0.2829827  \n",
       "[6,] 5580      0.2634976  "
      ]
     },
     "metadata": {},
     "output_type": "display_data"
    }
   ],
   "source": [
    "#printing few rows \n",
    "head(errors_sgd)\n",
    "head(errors_bgd)"
   ]
  },
  {
   "cell_type": "markdown",
   "metadata": {},
   "source": [
    "## Plotting training error for SGD and BGD vs number of visited data points"
   ]
  },
  {
   "cell_type": "code",
   "execution_count": 34,
   "metadata": {},
   "outputs": [
    {
     "data": {
      "image/png": "[encoded data removed]",
      "text/plain": [
       "Plot with title \"Number of visited data points Vs Train Error Rate\""
      ]
     },
     "metadata": {},
     "output_type": "display_data"
    }
   ],
   "source": [
    "# Ploting train errors for SGD and BGD\n",
    "plot(errors_sgd[,1], errors_sgd[,2], type=\"l\", col=\"red\", ylim=c(0,1), xlim=c(0,18*nrow(train_data)), \n",
    "     xlab=\"Number of visited data points\", ylab=\"Train Error Rate\", main = \"Number of visited data points Vs Train Error Rate\", \n",
    "     sub = \"red line is SGD, blue line is BGD\")\n",
    "\n",
    "lines(errors_bgd[,1], errors_bgd[,2], type=\"l\", col=\"blue\")"
   ]
  },
  {
   "cell_type": "markdown",
   "metadata": {},
   "source": [
    "## Observations"
   ]
  },
  {
   "cell_type": "markdown",
   "metadata": {},
   "source": [
    "We can infer from the above plot that it confirms that SGD converges quickly when compared to BGD because it SGD needed much fewer points to converge. The error for SGD is smaller when compared to BGD. There are negligible fluctuations in SGD error when it converges to minimum error value."
   ]
  }
 ],
 "metadata": {
  "kernelspec": {
   "display_name": "R",
   "language": "R",
   "name": "ir"
  },
  "language_info": {
   "codemirror_mode": "r",
   "file_extension": ".r",
   "mimetype": "text/x-r-source",
   "name": "R",
   "pygments_lexer": "r",
   "version": "3.4.3"
  }
 },
 "nbformat": 4,
 "nbformat_minor": 2
}
