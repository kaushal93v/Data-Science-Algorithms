{
 "cells": [
  {
   "cell_type": "markdown",
   "metadata": {},
   "source": [
    "# Discriminative vs Generative Models - Bayesian Classifier & Logistic Regression"
   ]
  },
  {
   "cell_type": "markdown",
   "metadata": {},
   "source": [
    "## Loading training and testing data"
   ]
  },
  {
   "cell_type": "code",
   "execution_count": 2,
   "metadata": {},
   "outputs": [],
   "source": [
    "#loading training data\n",
    "train_data <- read.csv(\"Task1E_train.csv\")\n",
    "train_label <- train_data[1:nrow(train_data),3] #creating the training labels\n",
    "\n",
    "#loading testing data\n",
    "test_data <- read.csv(\"Task1E_test.csv\")\n",
    "test_label <- test_data[1:nrow(test_data),3] #creating the testing labels"
   ]
  },
  {
   "cell_type": "code",
   "execution_count": 3,
   "metadata": {},
   "outputs": [
    {
     "data": {
      "text/html": [
       "<table>\n",
       "<thead><tr><th scope=col>x1</th><th scope=col>x2</th><th scope=col>y</th></tr></thead>\n",
       "<tbody>\n",
       "\t<tr><td>-0.4367052</td><td>3.171451  </td><td>-1        </td></tr>\n",
       "\t<tr><td> 5.1048972</td><td>1.227815  </td><td> 1        </td></tr>\n",
       "\t<tr><td> 3.9974518</td><td>1.049502  </td><td> 1        </td></tr>\n",
       "\t<tr><td> 2.5354540</td><td>1.242902  </td><td> 1        </td></tr>\n",
       "\t<tr><td> 4.2624556</td><td>2.551909  </td><td> 1        </td></tr>\n",
       "\t<tr><td> 1.5505866</td><td>2.595164  </td><td>-1        </td></tr>\n",
       "</tbody>\n",
       "</table>\n"
      ],
      "text/latex": [
       "\\begin{tabular}{r|lll}\n",
       " x1 & x2 & y\\\\\n",
       "\\hline\n",
       "\t -0.4367052 & 3.171451   & -1        \\\\\n",
       "\t  5.1048972 & 1.227815   &  1        \\\\\n",
       "\t  3.9974518 & 1.049502   &  1        \\\\\n",
       "\t  2.5354540 & 1.242902   &  1        \\\\\n",
       "\t  4.2624556 & 2.551909   &  1        \\\\\n",
       "\t  1.5505866 & 2.595164   & -1        \\\\\n",
       "\\end{tabular}\n"
      ],
      "text/markdown": [
       "\n",
       "x1 | x2 | y | \n",
       "|---|---|---|---|---|---|\n",
       "| -0.4367052 | 3.171451   | -1         | \n",
       "|  5.1048972 | 1.227815   |  1         | \n",
       "|  3.9974518 | 1.049502   |  1         | \n",
       "|  2.5354540 | 1.242902   |  1         | \n",
       "|  4.2624556 | 2.551909   |  1         | \n",
       "|  1.5505866 | 2.595164   | -1         | \n",
       "\n",
       "\n"
      ],
      "text/plain": [
       "  x1         x2       y \n",
       "1 -0.4367052 3.171451 -1\n",
       "2  5.1048972 1.227815  1\n",
       "3  3.9974518 1.049502  1\n",
       "4  2.5354540 1.242902  1\n",
       "5  4.2624556 2.551909  1\n",
       "6  1.5505866 2.595164 -1"
      ]
     },
     "metadata": {},
     "output_type": "display_data"
    },
    {
     "data": {
      "text/html": [
       "<ol class=list-inline>\n",
       "\t<li>-1</li>\n",
       "\t<li>1</li>\n",
       "\t<li>1</li>\n",
       "\t<li>1</li>\n",
       "\t<li>1</li>\n",
       "\t<li>-1</li>\n",
       "</ol>\n"
      ],
      "text/latex": [
       "\\begin{enumerate*}\n",
       "\\item -1\n",
       "\\item 1\n",
       "\\item 1\n",
       "\\item 1\n",
       "\\item 1\n",
       "\\item -1\n",
       "\\end{enumerate*}\n"
      ],
      "text/markdown": [
       "1. -1\n",
       "2. 1\n",
       "3. 1\n",
       "4. 1\n",
       "5. 1\n",
       "6. -1\n",
       "\n",
       "\n"
      ],
      "text/plain": [
       "[1] -1  1  1  1  1 -1"
      ]
     },
     "metadata": {},
     "output_type": "display_data"
    }
   ],
   "source": [
    "head(train_data) #printing first few rows\n",
    "head(train_label)"
   ]
  },
  {
   "cell_type": "code",
   "execution_count": 4,
   "metadata": {
    "scrolled": true
   },
   "outputs": [
    {
     "data": {
      "text/html": [
       "<table>\n",
       "<thead><tr><th scope=col>x1</th><th scope=col>x2</th><th scope=col>y</th></tr></thead>\n",
       "<tbody>\n",
       "\t<tr><td> 3.4781571 </td><td>-0.51546992</td><td> 1         </td></tr>\n",
       "\t<tr><td> 4.8959781 </td><td> 0.95320554</td><td> 1         </td></tr>\n",
       "\t<tr><td>-0.5783557 </td><td> 5.44553527</td><td>-1         </td></tr>\n",
       "\t<tr><td> 3.8417831 </td><td> 0.65759443</td><td> 1         </td></tr>\n",
       "\t<tr><td> 2.2649154 </td><td> 4.18082840</td><td>-1         </td></tr>\n",
       "\t<tr><td> 3.8550566 </td><td>-0.08328894</td><td> 1         </td></tr>\n",
       "</tbody>\n",
       "</table>\n"
      ],
      "text/latex": [
       "\\begin{tabular}{r|lll}\n",
       " x1 & x2 & y\\\\\n",
       "\\hline\n",
       "\t  3.4781571  & -0.51546992 &  1         \\\\\n",
       "\t  4.8959781  &  0.95320554 &  1         \\\\\n",
       "\t -0.5783557  &  5.44553527 & -1         \\\\\n",
       "\t  3.8417831  &  0.65759443 &  1         \\\\\n",
       "\t  2.2649154  &  4.18082840 & -1         \\\\\n",
       "\t  3.8550566  & -0.08328894 &  1         \\\\\n",
       "\\end{tabular}\n"
      ],
      "text/markdown": [
       "\n",
       "x1 | x2 | y | \n",
       "|---|---|---|---|---|---|\n",
       "|  3.4781571  | -0.51546992 |  1          | \n",
       "|  4.8959781  |  0.95320554 |  1          | \n",
       "| -0.5783557  |  5.44553527 | -1          | \n",
       "|  3.8417831  |  0.65759443 |  1          | \n",
       "|  2.2649154  |  4.18082840 | -1          | \n",
       "|  3.8550566  | -0.08328894 |  1          | \n",
       "\n",
       "\n"
      ],
      "text/plain": [
       "  x1         x2          y \n",
       "1  3.4781571 -0.51546992  1\n",
       "2  4.8959781  0.95320554  1\n",
       "3 -0.5783557  5.44553527 -1\n",
       "4  3.8417831  0.65759443  1\n",
       "5  2.2649154  4.18082840 -1\n",
       "6  3.8550566 -0.08328894  1"
      ]
     },
     "metadata": {},
     "output_type": "display_data"
    },
    {
     "data": {
      "text/html": [
       "<ol class=list-inline>\n",
       "\t<li>1</li>\n",
       "\t<li>1</li>\n",
       "\t<li>-1</li>\n",
       "\t<li>1</li>\n",
       "\t<li>-1</li>\n",
       "\t<li>1</li>\n",
       "</ol>\n"
      ],
      "text/latex": [
       "\\begin{enumerate*}\n",
       "\\item 1\n",
       "\\item 1\n",
       "\\item -1\n",
       "\\item 1\n",
       "\\item -1\n",
       "\\item 1\n",
       "\\end{enumerate*}\n"
      ],
      "text/markdown": [
       "1. 1\n",
       "2. 1\n",
       "3. -1\n",
       "4. 1\n",
       "5. -1\n",
       "6. 1\n",
       "\n",
       "\n"
      ],
      "text/plain": [
       "[1]  1  1 -1  1 -1  1"
      ]
     },
     "metadata": {},
     "output_type": "display_data"
    }
   ],
   "source": [
    "head(test_data) #printing first few rows\n",
    "head(test_label)"
   ]
  },
  {
   "cell_type": "markdown",
   "metadata": {},
   "source": [
    "## Loading required libraries"
   ]
  },
  {
   "cell_type": "code",
   "execution_count": 5,
   "metadata": {},
   "outputs": [],
   "source": [
    "## Load required libraries:\n",
    "library(mvtnorm) # generates multivariate Gaussian sampels and calculate the densities\n",
    "library(ggplot2)\n",
    "library(reshape2)"
   ]
  },
  {
   "cell_type": "markdown",
   "metadata": {},
   "source": [
    "## Implementation of Bayesian Classifier (BC)"
   ]
  },
  {
   "cell_type": "markdown",
   "metadata": {},
   "source": [
    "### Steps to Build A Bayesian Classifier\n",
    "These are the steps to build a bayesian Classifier:\n",
    "<ol>\n",
    "\t<li>Calculate the class priors $p(\\mathcal{C}_k)$ based on the relative number of training data in each class,</li>\n",
    "\t<li>Calculate the class means $\\mu_k$, class covariance matrices $\\mathbf{S}_k$ and shared covariance matrix $\\Sigma$ using the training data,</li>\n",
    "\t<li>Using the estimated PDF function, calculate $p(x_n|\\mathcal{C}_k)$ for each data point and each class,</li>\n",
    "\t<li>For each test sample, find the class label $\\mathcal{C}_k$ that maximizes the $p(\\mathcal{C}_k)p(x_n|\\mathcal{C}_k)$,</li>\n",
    "</ol>\n",
    "\n",
    "In the following we take these steps one by one."
   ]
  },
  {
   "cell_type": "code",
   "execution_count": 6,
   "metadata": {},
   "outputs": [],
   "source": [
    "bayesian_classifier <- function(train_data, test_data, train_label, test_label){\n",
    "    \n",
    "    # Initialization of parameters\n",
    "    c0 <- +1; c1 <- -1 # class labels\n",
    "    \n",
    "    # Calculate class probabilities:\n",
    "    p0.hat <- sum(train_label==c0)/nrow(train_data) # total number of samples in class 0 divided by the total nmber \n",
    "    # of training data\n",
    "    p1.hat <- sum(train_label==c1)/nrow(train_data) # or simply 1 - p1.hat\n",
    "\n",
    "    # Estimate class means:\n",
    "    mu0.hat <- colMeans(train_data[train_label==c0,])\n",
    "    mu1.hat <- colMeans(train_data[train_label==c1,])\n",
    "\n",
    "    # class covariance matrices:\n",
    "    sigma0.hat <- var(train_data[train_label==c0,])\n",
    "    sigma1.hat <- var(train_data[train_label==c1,])\n",
    "    \n",
    "    # shared covariance matrix:\n",
    "    sigma.hat <- p0.hat * sigma0.hat + p1.hat * sigma1.hat\n",
    "\n",
    "    # calculate posteriors:\n",
    "    posterior0 <- p0.hat*dmvnorm(x=train_data, mean=mu0.hat, sigma=sigma.hat)\n",
    "    posterior1 <- p1.hat*dmvnorm(x=train_data, mean=mu1.hat, sigma=sigma.hat)\n",
    "\n",
    "    # calculate predictions:\n",
    "    train.predict <- ifelse(posterior0 > posterior1, c0, c1)\n",
    "    test.predict <- ifelse(p0.hat*dmvnorm(x=test_data, mean=mu0.hat, sigma=sigma.hat) > p1.hat*dmvnorm(x=test_data, mean=mu1.hat, sigma=sigma.hat), c0, c1)\n",
    "\n",
    "    # calculate test error:\n",
    "    test_error <- (nrow(test_data) - sum(test_label==test.predict))/nrow(test_data)\n",
    "\n",
    "    return (test_error)\n",
    "\n",
    "}"
   ]
  },
  {
   "cell_type": "markdown",
   "metadata": {},
   "source": [
    "## Implementation of Logistic Regression"
   ]
  },
  {
   "cell_type": "markdown",
   "metadata": {},
   "source": [
    "## Steps to Build a Logistic Regression\n",
    "Taking the following steps is neccesseary to build a logistic regression:\n",
    "<ol>\n",
    "\t<li>Implement sigmoid function $\\sigma(\\pmb{w}.\\mathbf{x})$, and initialize weight vector $\\pmb{w}$, learning rate $\\eta$ and stopping criterion $\\epsilon$.</li>\n",
    "\t<li>Repeat the followings until the improvement becomes negligible (i.e., $|\\mathcal{L}(\\pmb{w}^{(\\tau+1)})-\\mathcal{L}(\\pmb{w}^{(\\tau)})| \\lt \\epsilon$):\n",
    "<ol>\n",
    "\t<li>Shuffle the training data</li>\n",
    "\t<li>For each datapoint in the training data do:\n",
    "<ol>\n",
    "\t<li>$\\pmb{w}^{(\\tau+1)} := \\pmb{w}^{(\\tau)} - \\eta (\\sigma(\\pmb{w}.\\mathbf{x}) - t_n) \\pmb{x}_n$</li>\n",
    "</ol>\n",
    "</li>\n",
    "</ol>\n",
    "</li>\n",
    "</ol>\n",
    "\n",
    "In the followings, we implement each of these steps."
   ]
  },
  {
   "cell_type": "code",
   "execution_count": 11,
   "metadata": {},
   "outputs": [],
   "source": [
    "# auxiliary function that predicts class labels\n",
    "predict <- function(w, X, c0, c1){\n",
    "    sig <- sigmoid(w, X)\n",
    "    return(ifelse(sig>0.5, c1,c0))\n",
    "}\n",
    "    \n",
    "# auxiliary function that calculate a cost function\n",
    "cost <- function (w, X, T, c0){\n",
    "    sig <- sigmoid(w, X)\n",
    "    return(sum(ifelse(T==c0, 1-sig, sig)))\n",
    "}\n",
    "\n",
    "# Sigmoid function (=p(C1|X))\n",
    "sigmoid <- function(w, x){\n",
    "    return(1.0/(1.0+exp(-w%*%t(cbind(1,x)))))    \n",
    "}"
   ]
  },
  {
   "cell_type": "code",
   "execution_count": 9,
   "metadata": {},
   "outputs": [],
   "source": [
    "logistic_regression <- function(train_data, test_data, train_label, test_label){\n",
    "    \n",
    "    # Initialization of parameters\n",
    "    c0 <- +1; c1 <- -1 # class labels\n",
    "    \n",
    "    # Initializations for Logistic Regression\n",
    "    tau.max <- 1000 # maximum number of iterations\n",
    "    eta <- 0.01 # learning rate\n",
    "    epsilon <- 0.01 # a threshold on the cost (to terminate the process)\n",
    "    \n",
    "    tau <- 1 # iteration counter\n",
    "    terminate <- FALSE\n",
    "    \n",
    "    ## Just a few name/type conversion to make the rest of the code easy to follow\n",
    "    X <- as.matrix(train_data) # rename just for conviniance\n",
    "    T <- ifelse(train_label==c0,0,1) # rename just for conviniance\n",
    "\n",
    "    W <- matrix(,nrow=tau.max, ncol=(ncol(X)+1)) # to be used to store the estimated coefficients\n",
    "    W[1,] <- runif(ncol(W)) # set initial weight\n",
    "\n",
    "    # project data using the sigmoid function (just for convenient)\n",
    "    Y <- sigmoid(W[1,],X)\n",
    "\n",
    "    costs <- data.frame('tau'=1:tau.max)  # to be used to trace the cost in each iteration\n",
    "    costs[1, 'cost'] <- cost(W[1,],X,T, c0)\n",
    "\n",
    "\n",
    "    while(!terminate){\n",
    "        # check termination criteria:\n",
    "        terminate <- tau >= tau.max | cost(W[tau,],X,T, c0)<=epsilon\n",
    "\n",
    "        # shuffle data:\n",
    "        train.index <- sample(1:nrow(train_data), nrow(train_data), replace = FALSE)\n",
    "        X <- X[train.index,]\n",
    "        T <- T[train.index]\n",
    "\n",
    "        # for each datapoint:\n",
    "        for (i in 1:nrow(train_data)){\n",
    "            # check termination criteria:\n",
    "            if (tau >= tau.max | cost(W[tau,],X,T, c0) <=epsilon) {terminate<-TRUE;break}\n",
    "\n",
    "            Y <- sigmoid(W[tau,],X)\n",
    "\n",
    "            # Update the weights\n",
    "            W[(tau+1),] <- W[tau,] - eta * (Y[i]-T[i]) * cbind(1, t(X[i,]))\n",
    "\n",
    "            # record the cost:\n",
    "            costs[(tau+1), 'cost'] <- cost(W[tau,],X,T, c0)\n",
    "\n",
    "            # update the counter:\n",
    "            tau <- tau + 1\n",
    "\n",
    "            # decrease learning rate:\n",
    "            eta = eta * 0.999\n",
    "        }\n",
    "    }\n",
    "    # Done!\n",
    "    costs <- costs[1:tau, ] # remove the NaN tail of the vector (in case of early stopping)\n",
    "\n",
    "    # final result:\n",
    "    w <- W[tau,]\n",
    "    \n",
    "    # calculate predictions:\n",
    "    train.predict <- predict(w,train_data,c0,c1)\n",
    "    test.predict <- predict(w,test_data,c0,c1)\n",
    "\n",
    "    # calculate test error:\n",
    "    test_error <- (nrow(test_data) - sum(test_label==test.predict))/nrow(test_data)\n",
    "    \n",
    "    return (test_error)   \n",
    "}"
   ]
  },
  {
   "cell_type": "markdown",
   "metadata": {},
   "source": [
    "## Calculation of test errors for Bayesian Classifier and Logistic Regression"
   ]
  },
  {
   "cell_type": "code",
   "execution_count": 12,
   "metadata": {},
   "outputs": [
    {
     "data": {
      "text/html": [
       "<table>\n",
       "<thead><tr><th scope=col>train_set_size</th><th scope=col>test_errors_BC</th><th scope=col>test_errors_LR</th></tr></thead>\n",
       "<tbody>\n",
       "\t<tr><td>  5        </td><td>0.600000000</td><td>0.200000000</td></tr>\n",
       "\t<tr><td> 10        </td><td>0.000000000</td><td>0.000000000</td></tr>\n",
       "\t<tr><td> 15        </td><td>0.000000000</td><td>0.000000000</td></tr>\n",
       "\t<tr><td> 20        </td><td>0.000000000</td><td>0.000000000</td></tr>\n",
       "\t<tr><td> 25        </td><td>0.000000000</td><td>0.000000000</td></tr>\n",
       "\t<tr><td> 30        </td><td>0.000000000</td><td>0.000000000</td></tr>\n",
       "\t<tr><td> 35        </td><td>0.028571429</td><td>0.028571429</td></tr>\n",
       "\t<tr><td> 40        </td><td>0.025000000</td><td>0.025000000</td></tr>\n",
       "\t<tr><td> 45        </td><td>0.022222222</td><td>0.022222222</td></tr>\n",
       "\t<tr><td> 50        </td><td>0.020000000</td><td>0.020000000</td></tr>\n",
       "\t<tr><td> 55        </td><td>0.018181818</td><td>0.018181818</td></tr>\n",
       "\t<tr><td> 60        </td><td>0.016666667</td><td>0.016666667</td></tr>\n",
       "\t<tr><td> 65        </td><td>0.015384615</td><td>0.015384615</td></tr>\n",
       "\t<tr><td> 70        </td><td>0.014285714</td><td>0.014285714</td></tr>\n",
       "\t<tr><td> 75        </td><td>0.013333333</td><td>0.013333333</td></tr>\n",
       "\t<tr><td> 80        </td><td>0.025000000</td><td>0.025000000</td></tr>\n",
       "\t<tr><td> 85        </td><td>0.011764706</td><td>0.011764706</td></tr>\n",
       "\t<tr><td> 90        </td><td>0.011111111</td><td>0.011111111</td></tr>\n",
       "\t<tr><td> 95        </td><td>0.010526316</td><td>0.010526316</td></tr>\n",
       "\t<tr><td>100        </td><td>0.010000000</td><td>0.010000000</td></tr>\n",
       "\t<tr><td>105        </td><td>0.009523810</td><td>0.009523810</td></tr>\n",
       "\t<tr><td>110        </td><td>0.009090909</td><td>0.009090909</td></tr>\n",
       "\t<tr><td>115        </td><td>0.008695652</td><td>0.008695652</td></tr>\n",
       "\t<tr><td>120        </td><td>0.008333333</td><td>0.008333333</td></tr>\n",
       "\t<tr><td>125        </td><td>0.008000000</td><td>0.008000000</td></tr>\n",
       "\t<tr><td>130        </td><td>0.007692308</td><td>0.007692308</td></tr>\n",
       "\t<tr><td>135        </td><td>0.007407407</td><td>0.007407407</td></tr>\n",
       "\t<tr><td>140        </td><td>0.007142857</td><td>0.007142857</td></tr>\n",
       "\t<tr><td>145        </td><td>0.013793103</td><td>0.006896552</td></tr>\n",
       "\t<tr><td>150        </td><td>0.013333333</td><td>0.006666667</td></tr>\n",
       "\t<tr><td>...</td><td>...</td><td>...</td></tr>\n",
       "\t<tr><td>355        </td><td>0.01971831 </td><td>0.011267606</td></tr>\n",
       "\t<tr><td>360        </td><td>0.01944444 </td><td>0.011111111</td></tr>\n",
       "\t<tr><td>365        </td><td>0.01917808 </td><td>0.010958904</td></tr>\n",
       "\t<tr><td>370        </td><td>0.01621622 </td><td>0.010810811</td></tr>\n",
       "\t<tr><td>375        </td><td>0.01600000 </td><td>0.010666667</td></tr>\n",
       "\t<tr><td>380        </td><td>0.01578947 </td><td>0.015789474</td></tr>\n",
       "\t<tr><td>385        </td><td>0.01818182 </td><td>0.010389610</td></tr>\n",
       "\t<tr><td>390        </td><td>0.01538462 </td><td>0.010256410</td></tr>\n",
       "\t<tr><td>395        </td><td>0.01772152 </td><td>0.015189873</td></tr>\n",
       "\t<tr><td>400        </td><td>0.01500000 </td><td>0.010000000</td></tr>\n",
       "\t<tr><td>405        </td><td>0.01728395 </td><td>0.012345679</td></tr>\n",
       "\t<tr><td>410        </td><td>0.01463415 </td><td>0.009756098</td></tr>\n",
       "\t<tr><td>415        </td><td>0.01445783 </td><td>0.009638554</td></tr>\n",
       "\t<tr><td>420        </td><td>0.01428571 </td><td>0.009523810</td></tr>\n",
       "\t<tr><td>425        </td><td>0.01411765 </td><td>0.009411765</td></tr>\n",
       "\t<tr><td>430        </td><td>0.01395349 </td><td>0.011627907</td></tr>\n",
       "\t<tr><td>435        </td><td>0.01609195 </td><td>0.011494253</td></tr>\n",
       "\t<tr><td>440        </td><td>0.01590909 </td><td>0.013636364</td></tr>\n",
       "\t<tr><td>445        </td><td>0.01573034 </td><td>0.015730337</td></tr>\n",
       "\t<tr><td>450        </td><td>0.01555556 </td><td>0.013333333</td></tr>\n",
       "\t<tr><td>455        </td><td>0.01538462 </td><td>0.010989011</td></tr>\n",
       "\t<tr><td>460        </td><td>0.01521739 </td><td>0.010869565</td></tr>\n",
       "\t<tr><td>465        </td><td>0.01935484 </td><td>0.012903226</td></tr>\n",
       "\t<tr><td>470        </td><td>0.01914894 </td><td>0.012765957</td></tr>\n",
       "\t<tr><td>475        </td><td>0.01894737 </td><td>0.012631579</td></tr>\n",
       "\t<tr><td>480        </td><td>0.01875000 </td><td>0.012500000</td></tr>\n",
       "\t<tr><td>485        </td><td>0.01855670 </td><td>0.014432990</td></tr>\n",
       "\t<tr><td>490        </td><td>0.02040816 </td><td>0.014285714</td></tr>\n",
       "\t<tr><td>495        </td><td>0.02020202 </td><td>0.014141414</td></tr>\n",
       "\t<tr><td>500        </td><td>0.02000000 </td><td>0.014000000</td></tr>\n",
       "</tbody>\n",
       "</table>\n"
      ],
      "text/latex": [
       "\\begin{tabular}{r|lll}\n",
       " train\\_set\\_size & test\\_errors\\_BC & test\\_errors\\_LR\\\\\n",
       "\\hline\n",
       "\t   5         & 0.600000000 & 0.200000000\\\\\n",
       "\t  10         & 0.000000000 & 0.000000000\\\\\n",
       "\t  15         & 0.000000000 & 0.000000000\\\\\n",
       "\t  20         & 0.000000000 & 0.000000000\\\\\n",
       "\t  25         & 0.000000000 & 0.000000000\\\\\n",
       "\t  30         & 0.000000000 & 0.000000000\\\\\n",
       "\t  35         & 0.028571429 & 0.028571429\\\\\n",
       "\t  40         & 0.025000000 & 0.025000000\\\\\n",
       "\t  45         & 0.022222222 & 0.022222222\\\\\n",
       "\t  50         & 0.020000000 & 0.020000000\\\\\n",
       "\t  55         & 0.018181818 & 0.018181818\\\\\n",
       "\t  60         & 0.016666667 & 0.016666667\\\\\n",
       "\t  65         & 0.015384615 & 0.015384615\\\\\n",
       "\t  70         & 0.014285714 & 0.014285714\\\\\n",
       "\t  75         & 0.013333333 & 0.013333333\\\\\n",
       "\t  80         & 0.025000000 & 0.025000000\\\\\n",
       "\t  85         & 0.011764706 & 0.011764706\\\\\n",
       "\t  90         & 0.011111111 & 0.011111111\\\\\n",
       "\t  95         & 0.010526316 & 0.010526316\\\\\n",
       "\t 100         & 0.010000000 & 0.010000000\\\\\n",
       "\t 105         & 0.009523810 & 0.009523810\\\\\n",
       "\t 110         & 0.009090909 & 0.009090909\\\\\n",
       "\t 115         & 0.008695652 & 0.008695652\\\\\n",
       "\t 120         & 0.008333333 & 0.008333333\\\\\n",
       "\t 125         & 0.008000000 & 0.008000000\\\\\n",
       "\t 130         & 0.007692308 & 0.007692308\\\\\n",
       "\t 135         & 0.007407407 & 0.007407407\\\\\n",
       "\t 140         & 0.007142857 & 0.007142857\\\\\n",
       "\t 145         & 0.013793103 & 0.006896552\\\\\n",
       "\t 150         & 0.013333333 & 0.006666667\\\\\n",
       "\t ... & ... & ...\\\\\n",
       "\t 355         & 0.01971831  & 0.011267606\\\\\n",
       "\t 360         & 0.01944444  & 0.011111111\\\\\n",
       "\t 365         & 0.01917808  & 0.010958904\\\\\n",
       "\t 370         & 0.01621622  & 0.010810811\\\\\n",
       "\t 375         & 0.01600000  & 0.010666667\\\\\n",
       "\t 380         & 0.01578947  & 0.015789474\\\\\n",
       "\t 385         & 0.01818182  & 0.010389610\\\\\n",
       "\t 390         & 0.01538462  & 0.010256410\\\\\n",
       "\t 395         & 0.01772152  & 0.015189873\\\\\n",
       "\t 400         & 0.01500000  & 0.010000000\\\\\n",
       "\t 405         & 0.01728395  & 0.012345679\\\\\n",
       "\t 410         & 0.01463415  & 0.009756098\\\\\n",
       "\t 415         & 0.01445783  & 0.009638554\\\\\n",
       "\t 420         & 0.01428571  & 0.009523810\\\\\n",
       "\t 425         & 0.01411765  & 0.009411765\\\\\n",
       "\t 430         & 0.01395349  & 0.011627907\\\\\n",
       "\t 435         & 0.01609195  & 0.011494253\\\\\n",
       "\t 440         & 0.01590909  & 0.013636364\\\\\n",
       "\t 445         & 0.01573034  & 0.015730337\\\\\n",
       "\t 450         & 0.01555556  & 0.013333333\\\\\n",
       "\t 455         & 0.01538462  & 0.010989011\\\\\n",
       "\t 460         & 0.01521739  & 0.010869565\\\\\n",
       "\t 465         & 0.01935484  & 0.012903226\\\\\n",
       "\t 470         & 0.01914894  & 0.012765957\\\\\n",
       "\t 475         & 0.01894737  & 0.012631579\\\\\n",
       "\t 480         & 0.01875000  & 0.012500000\\\\\n",
       "\t 485         & 0.01855670  & 0.014432990\\\\\n",
       "\t 490         & 0.02040816  & 0.014285714\\\\\n",
       "\t 495         & 0.02020202  & 0.014141414\\\\\n",
       "\t 500         & 0.02000000  & 0.014000000\\\\\n",
       "\\end{tabular}\n"
      ],
      "text/markdown": [
       "\n",
       "train_set_size | test_errors_BC | test_errors_LR | \n",
       "|---|---|---|---|---|---|---|---|---|---|---|---|---|---|---|---|---|---|---|---|---|---|---|---|---|---|---|---|---|---|---|---|---|---|---|---|---|---|---|---|---|---|---|---|---|---|---|---|---|---|---|---|---|---|---|---|---|---|---|---|---|\n",
       "|   5         | 0.600000000 | 0.200000000 | \n",
       "|  10         | 0.000000000 | 0.000000000 | \n",
       "|  15         | 0.000000000 | 0.000000000 | \n",
       "|  20         | 0.000000000 | 0.000000000 | \n",
       "|  25         | 0.000000000 | 0.000000000 | \n",
       "|  30         | 0.000000000 | 0.000000000 | \n",
       "|  35         | 0.028571429 | 0.028571429 | \n",
       "|  40         | 0.025000000 | 0.025000000 | \n",
       "|  45         | 0.022222222 | 0.022222222 | \n",
       "|  50         | 0.020000000 | 0.020000000 | \n",
       "|  55         | 0.018181818 | 0.018181818 | \n",
       "|  60         | 0.016666667 | 0.016666667 | \n",
       "|  65         | 0.015384615 | 0.015384615 | \n",
       "|  70         | 0.014285714 | 0.014285714 | \n",
       "|  75         | 0.013333333 | 0.013333333 | \n",
       "|  80         | 0.025000000 | 0.025000000 | \n",
       "|  85         | 0.011764706 | 0.011764706 | \n",
       "|  90         | 0.011111111 | 0.011111111 | \n",
       "|  95         | 0.010526316 | 0.010526316 | \n",
       "| 100         | 0.010000000 | 0.010000000 | \n",
       "| 105         | 0.009523810 | 0.009523810 | \n",
       "| 110         | 0.009090909 | 0.009090909 | \n",
       "| 115         | 0.008695652 | 0.008695652 | \n",
       "| 120         | 0.008333333 | 0.008333333 | \n",
       "| 125         | 0.008000000 | 0.008000000 | \n",
       "| 130         | 0.007692308 | 0.007692308 | \n",
       "| 135         | 0.007407407 | 0.007407407 | \n",
       "| 140         | 0.007142857 | 0.007142857 | \n",
       "| 145         | 0.013793103 | 0.006896552 | \n",
       "| 150         | 0.013333333 | 0.006666667 | \n",
       "| ... | ... | ... | \n",
       "| 355         | 0.01971831  | 0.011267606 | \n",
       "| 360         | 0.01944444  | 0.011111111 | \n",
       "| 365         | 0.01917808  | 0.010958904 | \n",
       "| 370         | 0.01621622  | 0.010810811 | \n",
       "| 375         | 0.01600000  | 0.010666667 | \n",
       "| 380         | 0.01578947  | 0.015789474 | \n",
       "| 385         | 0.01818182  | 0.010389610 | \n",
       "| 390         | 0.01538462  | 0.010256410 | \n",
       "| 395         | 0.01772152  | 0.015189873 | \n",
       "| 400         | 0.01500000  | 0.010000000 | \n",
       "| 405         | 0.01728395  | 0.012345679 | \n",
       "| 410         | 0.01463415  | 0.009756098 | \n",
       "| 415         | 0.01445783  | 0.009638554 | \n",
       "| 420         | 0.01428571  | 0.009523810 | \n",
       "| 425         | 0.01411765  | 0.009411765 | \n",
       "| 430         | 0.01395349  | 0.011627907 | \n",
       "| 435         | 0.01609195  | 0.011494253 | \n",
       "| 440         | 0.01590909  | 0.013636364 | \n",
       "| 445         | 0.01573034  | 0.015730337 | \n",
       "| 450         | 0.01555556  | 0.013333333 | \n",
       "| 455         | 0.01538462  | 0.010989011 | \n",
       "| 460         | 0.01521739  | 0.010869565 | \n",
       "| 465         | 0.01935484  | 0.012903226 | \n",
       "| 470         | 0.01914894  | 0.012765957 | \n",
       "| 475         | 0.01894737  | 0.012631579 | \n",
       "| 480         | 0.01875000  | 0.012500000 | \n",
       "| 485         | 0.01855670  | 0.014432990 | \n",
       "| 490         | 0.02040816  | 0.014285714 | \n",
       "| 495         | 0.02020202  | 0.014141414 | \n",
       "| 500         | 0.02000000  | 0.014000000 | \n",
       "\n",
       "\n"
      ],
      "text/plain": [
       "    train_set_size test_errors_BC test_errors_LR\n",
       "1     5            0.600000000    0.200000000   \n",
       "2    10            0.000000000    0.000000000   \n",
       "3    15            0.000000000    0.000000000   \n",
       "4    20            0.000000000    0.000000000   \n",
       "5    25            0.000000000    0.000000000   \n",
       "6    30            0.000000000    0.000000000   \n",
       "7    35            0.028571429    0.028571429   \n",
       "8    40            0.025000000    0.025000000   \n",
       "9    45            0.022222222    0.022222222   \n",
       "10   50            0.020000000    0.020000000   \n",
       "11   55            0.018181818    0.018181818   \n",
       "12   60            0.016666667    0.016666667   \n",
       "13   65            0.015384615    0.015384615   \n",
       "14   70            0.014285714    0.014285714   \n",
       "15   75            0.013333333    0.013333333   \n",
       "16   80            0.025000000    0.025000000   \n",
       "17   85            0.011764706    0.011764706   \n",
       "18   90            0.011111111    0.011111111   \n",
       "19   95            0.010526316    0.010526316   \n",
       "20  100            0.010000000    0.010000000   \n",
       "21  105            0.009523810    0.009523810   \n",
       "22  110            0.009090909    0.009090909   \n",
       "23  115            0.008695652    0.008695652   \n",
       "24  120            0.008333333    0.008333333   \n",
       "25  125            0.008000000    0.008000000   \n",
       "26  130            0.007692308    0.007692308   \n",
       "27  135            0.007407407    0.007407407   \n",
       "28  140            0.007142857    0.007142857   \n",
       "29  145            0.013793103    0.006896552   \n",
       "30  150            0.013333333    0.006666667   \n",
       "... ...            ...            ...           \n",
       "71  355            0.01971831     0.011267606   \n",
       "72  360            0.01944444     0.011111111   \n",
       "73  365            0.01917808     0.010958904   \n",
       "74  370            0.01621622     0.010810811   \n",
       "75  375            0.01600000     0.010666667   \n",
       "76  380            0.01578947     0.015789474   \n",
       "77  385            0.01818182     0.010389610   \n",
       "78  390            0.01538462     0.010256410   \n",
       "79  395            0.01772152     0.015189873   \n",
       "80  400            0.01500000     0.010000000   \n",
       "81  405            0.01728395     0.012345679   \n",
       "82  410            0.01463415     0.009756098   \n",
       "83  415            0.01445783     0.009638554   \n",
       "84  420            0.01428571     0.009523810   \n",
       "85  425            0.01411765     0.009411765   \n",
       "86  430            0.01395349     0.011627907   \n",
       "87  435            0.01609195     0.011494253   \n",
       "88  440            0.01590909     0.013636364   \n",
       "89  445            0.01573034     0.015730337   \n",
       "90  450            0.01555556     0.013333333   \n",
       "91  455            0.01538462     0.010989011   \n",
       "92  460            0.01521739     0.010869565   \n",
       "93  465            0.01935484     0.012903226   \n",
       "94  470            0.01914894     0.012765957   \n",
       "95  475            0.01894737     0.012631579   \n",
       "96  480            0.01875000     0.012500000   \n",
       "97  485            0.01855670     0.014432990   \n",
       "98  490            0.02040816     0.014285714   \n",
       "99  495            0.02020202     0.014141414   \n",
       "100 500            0.02000000     0.014000000   "
      ]
     },
     "metadata": {},
     "output_type": "display_data"
    }
   ],
   "source": [
    "#creating a sample sequence of training data size points from 5 to until all points of training data\n",
    "sample <- seq(from = 5, to = nrow(train_data), by = 5)\n",
    "\n",
    "# empty data frame to store test errors for Bayesian Classifier and Logistic Regression\n",
    "test_error <- data.frame('train_set_size' = rep(0,length(sample)), 'test_errors_BC' = rep(0,length(sample)), 'test_errors_LR' = rep(0,length(sample)))\n",
    "\n",
    "ind <- 1 # iteration index to store test errors\n",
    "\n",
    "#for each train data size\n",
    "for (s in sample){\n",
    "    #slicing train data, train label, test data, test label\n",
    "    sample_train <- train_data[1:s,1:2] \n",
    "    sample_test <- test_data[1:s,1:2]\n",
    "    sample_train_label <- train_label[1:s]\n",
    "    sample_test_label <- test_label[1:s]\n",
    "    \n",
    "    #updating dataframe\n",
    "    test_error[ind, 1] <- s\n",
    "    #calling bayesian_classifier function\n",
    "    test_error[ind, 2] <- bayesian_classifier(sample_train, sample_test, sample_train_label, sample_test_label)\n",
    "    #calling logistic_regression function\n",
    "    test_error[ind, 3] <- logistic_regression(sample_train, sample_test, sample_train_label, sample_test_label)\n",
    "    ind <- ind + 1 #incrementing index\n",
    "}\n",
    "test_error #printing test errors "
   ]
  },
  {
   "cell_type": "markdown",
   "metadata": {},
   "source": [
    "## Plot test error vs training data size for Bayesian Classifier and Logistic Regression"
   ]
  },
  {
   "cell_type": "code",
   "execution_count": 13,
   "metadata": {
    "scrolled": true
   },
   "outputs": [
    {
     "data": {},
     "metadata": {},
     "output_type": "display_data"
    },
    {
     "data": {
      "image/png": "[encoded data removed]",
      "text/plain": [
       "plot without title"
      ]
     },
     "metadata": {},
     "output_type": "display_data"
    }
   ],
   "source": [
    "# Plot the test error for each model (with different colors) versus the size of the training set\n",
    "\n",
    "test_error_melt <- melt(test_error, id='train_set_size')\n",
    "names(test_error_melt) <- c('train_set_size', 'type','test_error')\n",
    "ggplot(data=test_error_melt, aes(x = train_set_size, y = test_error, color=type)) + geom_line(size=.75) + \n",
    "        labs(title='Test Error vs Training Data size', x = \"Training Set Size\", y = \"Test Error\") +  theme_minimal()"
   ]
  },
  {
   "cell_type": "markdown",
   "metadata": {},
   "source": [
    "## Observations"
   ]
  },
  {
   "cell_type": "markdown",
   "metadata": {},
   "source": [
    "**What does happen for each classifier when the number of training data points is increased?**\n",
    "    \n",
    "At first, the test errors for both bayesian classifier and logistic regression reduces to zero when the training dataset size increases from 5 to 30. The test errors for both the algorithms slightly increases and is equal when the training dataset size increases from 30 to 140. After 140, the test errors slightly increase again and fluctuates for different sizes of training dataset.\n",
    "       \n",
    "**Which classifier is best suited when the training set is small, and which is best suited when the training set is big?**\n",
    " \n",
    "From the above plot, we observe that the test error for logistic regression is always less than the bayesian classifier. So, for this given data, logistic regression is suitable for both small and big training sets. This could be different for other data sets. We can infer that bayesian classifier is also suitable for smaller data sets. \n",
    "\n",
    "**Possible reasons for the above observations:**\n",
    "\n",
    "Complex models need large training datasets to fit perfectly. If we try to fit complex model on small data, it would result in overfitting, leading to large variance and thus large test errors. So, for a given model, when we increase size of training data, we can expect a fall in test error."
   ]
  }
 ],
 "metadata": {
  "kernelspec": {
   "display_name": "R",
   "language": "R",
   "name": "ir"
  },
  "language_info": {
   "codemirror_mode": "r",
   "file_extension": ".r",
   "mimetype": "text/x-r-source",
   "name": "R",
   "pygments_lexer": "r",
   "version": "3.4.3"
  }
 },
 "nbformat": 4,
 "nbformat_minor": 2
}
