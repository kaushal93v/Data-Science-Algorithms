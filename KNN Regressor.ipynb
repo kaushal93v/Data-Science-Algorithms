{
 "cells": [
  {
   "cell_type": "markdown",
   "metadata": {},
   "source": [
    "# KNN Regressor"
   ]
  },
  {
   "cell_type": "markdown",
   "metadata": {},
   "source": [
    "## Loading training and testing data"
   ]
  },
  {
   "cell_type": "code",
   "execution_count": 1,
   "metadata": {},
   "outputs": [],
   "source": [
    "#loading training data\n",
    "train_data <- read.csv(\"Task1A_train.csv\")\n",
    "train_label <- train_data[1:nrow(train_data),2] #creating the training labels\n",
    "\n",
    "#loading testing data\n",
    "test_data <- read.csv(\"Task1A_test.csv\")\n",
    "test_label <- test_data[1:nrow(test_data),2] #creating the testing labels"
   ]
  },
  {
   "cell_type": "code",
   "execution_count": 2,
   "metadata": {},
   "outputs": [
    {
     "data": {
      "text/html": [
       "<table>\n",
       "<thead><tr><th scope=col>x1</th><th scope=col>y</th></tr></thead>\n",
       "<tbody>\n",
       "\t<tr><td>1960.0</td><td>0.71  </td></tr>\n",
       "\t<tr><td>1960.5</td><td>0.85  </td></tr>\n",
       "\t<tr><td>1961.0</td><td>0.61  </td></tr>\n",
       "\t<tr><td>1961.5</td><td>0.92  </td></tr>\n",
       "\t<tr><td>1962.0</td><td>0.72  </td></tr>\n",
       "\t<tr><td>1962.5</td><td>0.92  </td></tr>\n",
       "</tbody>\n",
       "</table>\n"
      ],
      "text/latex": [
       "\\begin{tabular}{r|ll}\n",
       " x1 & y\\\\\n",
       "\\hline\n",
       "\t 1960.0 & 0.71  \\\\\n",
       "\t 1960.5 & 0.85  \\\\\n",
       "\t 1961.0 & 0.61  \\\\\n",
       "\t 1961.5 & 0.92  \\\\\n",
       "\t 1962.0 & 0.72  \\\\\n",
       "\t 1962.5 & 0.92  \\\\\n",
       "\\end{tabular}\n"
      ],
      "text/markdown": [
       "\n",
       "x1 | y | \n",
       "|---|---|---|---|---|---|\n",
       "| 1960.0 | 0.71   | \n",
       "| 1960.5 | 0.85   | \n",
       "| 1961.0 | 0.61   | \n",
       "| 1961.5 | 0.92   | \n",
       "| 1962.0 | 0.72   | \n",
       "| 1962.5 | 0.92   | \n",
       "\n",
       "\n"
      ],
      "text/plain": [
       "  x1     y   \n",
       "1 1960.0 0.71\n",
       "2 1960.5 0.85\n",
       "3 1961.0 0.61\n",
       "4 1961.5 0.92\n",
       "5 1962.0 0.72\n",
       "6 1962.5 0.92"
      ]
     },
     "metadata": {},
     "output_type": "display_data"
    },
    {
     "data": {
      "text/html": [
       "<ol class=list-inline>\n",
       "\t<li>0.71</li>\n",
       "\t<li>0.85</li>\n",
       "\t<li>0.61</li>\n",
       "\t<li>0.92</li>\n",
       "\t<li>0.72</li>\n",
       "\t<li>0.92</li>\n",
       "</ol>\n"
      ],
      "text/latex": [
       "\\begin{enumerate*}\n",
       "\\item 0.71\n",
       "\\item 0.85\n",
       "\\item 0.61\n",
       "\\item 0.92\n",
       "\\item 0.72\n",
       "\\item 0.92\n",
       "\\end{enumerate*}\n"
      ],
      "text/markdown": [
       "1. 0.71\n",
       "2. 0.85\n",
       "3. 0.61\n",
       "4. 0.92\n",
       "5. 0.72\n",
       "6. 0.92\n",
       "\n",
       "\n"
      ],
      "text/plain": [
       "[1] 0.71 0.85 0.61 0.92 0.72 0.92"
      ]
     },
     "metadata": {},
     "output_type": "display_data"
    }
   ],
   "source": [
    "#printing out first 5 rows of train data and labels\n",
    "head(train_data)\n",
    "head(train_label)"
   ]
  },
  {
   "cell_type": "code",
   "execution_count": 3,
   "metadata": {},
   "outputs": [
    {
     "data": {
      "text/html": [
       "<table>\n",
       "<thead><tr><th scope=col>x1</th><th scope=col>y</th></tr></thead>\n",
       "<tbody>\n",
       "\t<tr><td>1960.25</td><td>0.63   </td></tr>\n",
       "\t<tr><td>1960.75</td><td>0.44   </td></tr>\n",
       "\t<tr><td>1961.25</td><td>0.69   </td></tr>\n",
       "\t<tr><td>1961.75</td><td>0.55   </td></tr>\n",
       "\t<tr><td>1962.25</td><td>0.77   </td></tr>\n",
       "\t<tr><td>1962.75</td><td>0.60   </td></tr>\n",
       "</tbody>\n",
       "</table>\n"
      ],
      "text/latex": [
       "\\begin{tabular}{r|ll}\n",
       " x1 & y\\\\\n",
       "\\hline\n",
       "\t 1960.25 & 0.63   \\\\\n",
       "\t 1960.75 & 0.44   \\\\\n",
       "\t 1961.25 & 0.69   \\\\\n",
       "\t 1961.75 & 0.55   \\\\\n",
       "\t 1962.25 & 0.77   \\\\\n",
       "\t 1962.75 & 0.60   \\\\\n",
       "\\end{tabular}\n"
      ],
      "text/markdown": [
       "\n",
       "x1 | y | \n",
       "|---|---|---|---|---|---|\n",
       "| 1960.25 | 0.63    | \n",
       "| 1960.75 | 0.44    | \n",
       "| 1961.25 | 0.69    | \n",
       "| 1961.75 | 0.55    | \n",
       "| 1962.25 | 0.77    | \n",
       "| 1962.75 | 0.60    | \n",
       "\n",
       "\n"
      ],
      "text/plain": [
       "  x1      y   \n",
       "1 1960.25 0.63\n",
       "2 1960.75 0.44\n",
       "3 1961.25 0.69\n",
       "4 1961.75 0.55\n",
       "5 1962.25 0.77\n",
       "6 1962.75 0.60"
      ]
     },
     "metadata": {},
     "output_type": "display_data"
    },
    {
     "data": {
      "text/html": [
       "<ol class=list-inline>\n",
       "\t<li>0.63</li>\n",
       "\t<li>0.44</li>\n",
       "\t<li>0.69</li>\n",
       "\t<li>0.55</li>\n",
       "\t<li>0.77</li>\n",
       "\t<li>0.6</li>\n",
       "</ol>\n"
      ],
      "text/latex": [
       "\\begin{enumerate*}\n",
       "\\item 0.63\n",
       "\\item 0.44\n",
       "\\item 0.69\n",
       "\\item 0.55\n",
       "\\item 0.77\n",
       "\\item 0.6\n",
       "\\end{enumerate*}\n"
      ],
      "text/markdown": [
       "1. 0.63\n",
       "2. 0.44\n",
       "3. 0.69\n",
       "4. 0.55\n",
       "5. 0.77\n",
       "6. 0.6\n",
       "\n",
       "\n"
      ],
      "text/plain": [
       "[1] 0.63 0.44 0.69 0.55 0.77 0.60"
      ]
     },
     "metadata": {},
     "output_type": "display_data"
    }
   ],
   "source": [
    "#printing out first 5 rows of test data and labels\n",
    "head(test_data)\n",
    "head(test_label)"
   ]
  },
  {
   "cell_type": "code",
   "execution_count": 4,
   "metadata": {},
   "outputs": [
    {
     "data": {
      "text/html": [
       "<ol class=list-inline>\n",
       "\t<li>42</li>\n",
       "\t<li>2</li>\n",
       "</ol>\n"
      ],
      "text/latex": [
       "\\begin{enumerate*}\n",
       "\\item 42\n",
       "\\item 2\n",
       "\\end{enumerate*}\n"
      ],
      "text/markdown": [
       "1. 42\n",
       "2. 2\n",
       "\n",
       "\n"
      ],
      "text/plain": [
       "[1] 42  2"
      ]
     },
     "metadata": {},
     "output_type": "display_data"
    },
    {
     "data": {
      "text/html": [
       "<ol class=list-inline>\n",
       "\t<li>42</li>\n",
       "\t<li>2</li>\n",
       "</ol>\n"
      ],
      "text/latex": [
       "\\begin{enumerate*}\n",
       "\\item 42\n",
       "\\item 2\n",
       "\\end{enumerate*}\n"
      ],
      "text/markdown": [
       "1. 42\n",
       "2. 2\n",
       "\n",
       "\n"
      ],
      "text/plain": [
       "[1] 42  2"
      ]
     },
     "metadata": {},
     "output_type": "display_data"
    }
   ],
   "source": [
    "#checking the dimensions of train and test datasets\n",
    "dim(train_data)\n",
    "dim(test_data)"
   ]
  },
  {
   "cell_type": "markdown",
   "metadata": {},
   "source": [
    "## Implementation of average of the neighbours values function"
   ]
  },
  {
   "cell_type": "markdown",
   "metadata": {},
   "source": [
    "This function calculates the average of the neighbours values and returns the calculated average value."
   ]
  },
  {
   "cell_type": "code",
   "execution_count": 5,
   "metadata": {},
   "outputs": [],
   "source": [
    "#function to calcuate the average of the neighbour's values\n",
    "avg_neighbours <- function(x) {\n",
    "    avg <- mean(x)\n",
    "    return(avg)\n",
    "}"
   ]
  },
  {
   "cell_type": "markdown",
   "metadata": {},
   "source": [
    "## Implementation of KNN Regressor"
   ]
  },
  {
   "cell_type": "markdown",
   "metadata": {},
   "source": [
    "This function knn_regressor takes 4 arguments train_data,train_label,test_data, and neighbourhood size (K). It returns the regressed values for the test data values. "
   ]
  },
  {
   "cell_type": "code",
   "execution_count": 6,
   "metadata": {},
   "outputs": [],
   "source": [
    "#KNN regressor function\n",
    "knn_regressor <- function(train_data, train_label, test_data, K=3){\n",
    "    \n",
    "    train_len <- nrow(train_data) #length of train data\n",
    "    test_len <- nrow(test_data) #length of test data\n",
    "    \n",
    "    #distance matrix which calculates the distance between data points\n",
    "    dist <- as.matrix(dist(rbind(test_data, train_data), method= \"euclidean\"))[1:test_len, (test_len+1):(test_len+train_len)]\n",
    "    \n",
    "    regressed_vals <- c() #empty vector to store regressed values\n",
    "    \n",
    "    #iterating through the test data points\n",
    "    for (i in 1:test_len){\n",
    "        #finding the K nearest neighbours indices\n",
    "        ind <- as.data.frame(sort(dist[i,], index.return = TRUE))[1:K,2] \n",
    "        \n",
    "        d <- avg_neighbours(train_label[ind]) #calling the avg_distance function, argument as nearest training points\n",
    "        regressed_vals <- c(regressed_vals, d) #storing the calcuated regressed value int he vector created\n",
    "    }\n",
    "    \n",
    "   return(regressed_vals) #returns the regressed values\n",
    "\n",
    "}"
   ]
  },
  {
   "cell_type": "markdown",
   "metadata": {},
   "source": [
    "## Calculation of train and test errors for K = 1 to 20"
   ]
  },
  {
   "cell_type": "markdown",
   "metadata": {},
   "source": [
    "First we calcuate the error difference between the regressed values and actual values, and square it. Then we take the mean of those squared errors for all the values. This is mean squared error and it has squared units. To maintain the same units as the quantity being estimated, we take the square root of the MSE, which becomes RMSE.\n",
    "\n",
    "The chosen error function is root mean square error(RMSE). We calculate the train error and test error. "
   ]
  },
  {
   "cell_type": "code",
   "execution_count": 17,
   "metadata": {
    "scrolled": true
   },
   "outputs": [
    {
     "data": {
      "text/html": [
       "<table>\n",
       "<thead><tr><th scope=col>K</th><th scope=col>train</th><th scope=col>test</th></tr></thead>\n",
       "<tbody>\n",
       "\t<tr><td> 1       </td><td>0.0000000</td><td>0.3935945</td></tr>\n",
       "\t<tr><td> 2       </td><td>0.1509632</td><td>0.4163139</td></tr>\n",
       "\t<tr><td> 3       </td><td>0.2914464</td><td>0.4326166</td></tr>\n",
       "\t<tr><td> 4       </td><td>0.3255072</td><td>0.4533746</td></tr>\n",
       "\t<tr><td> 5       </td><td>0.3976324</td><td>0.3669469</td></tr>\n",
       "\t<tr><td> 6       </td><td>0.4657130</td><td>0.4717088</td></tr>\n",
       "\t<tr><td> 7       </td><td>0.6405341</td><td>0.4996022</td></tr>\n",
       "\t<tr><td> 8       </td><td>0.7918818</td><td>0.4877006</td></tr>\n",
       "\t<tr><td> 9       </td><td>0.9444320</td><td>0.5032273</td></tr>\n",
       "\t<tr><td>10       </td><td>1.0670213</td><td>0.5632805</td></tr>\n",
       "\t<tr><td>11       </td><td>1.1851674</td><td>0.6178352</td></tr>\n",
       "\t<tr><td>12       </td><td>1.3073252</td><td>0.6983644</td></tr>\n",
       "\t<tr><td>13       </td><td>1.4158134</td><td>0.7859283</td></tr>\n",
       "\t<tr><td>14       </td><td>1.5184436</td><td>0.8736079</td></tr>\n",
       "\t<tr><td>15       </td><td>1.6256989</td><td>0.9307706</td></tr>\n",
       "\t<tr><td>16       </td><td>1.7313096</td><td>1.0067322</td></tr>\n",
       "\t<tr><td>17       </td><td>1.8373320</td><td>1.1050436</td></tr>\n",
       "\t<tr><td>18       </td><td>1.9283176</td><td>1.1834961</td></tr>\n",
       "\t<tr><td>19       </td><td>2.0324578</td><td>1.2667848</td></tr>\n",
       "\t<tr><td>20       </td><td>2.1379167</td><td>1.3555886</td></tr>\n",
       "</tbody>\n",
       "</table>\n"
      ],
      "text/latex": [
       "\\begin{tabular}{r|lll}\n",
       " K & train & test\\\\\n",
       "\\hline\n",
       "\t  1        & 0.0000000 & 0.3935945\\\\\n",
       "\t  2        & 0.1509632 & 0.4163139\\\\\n",
       "\t  3        & 0.2914464 & 0.4326166\\\\\n",
       "\t  4        & 0.3255072 & 0.4533746\\\\\n",
       "\t  5        & 0.3976324 & 0.3669469\\\\\n",
       "\t  6        & 0.4657130 & 0.4717088\\\\\n",
       "\t  7        & 0.6405341 & 0.4996022\\\\\n",
       "\t  8        & 0.7918818 & 0.4877006\\\\\n",
       "\t  9        & 0.9444320 & 0.5032273\\\\\n",
       "\t 10        & 1.0670213 & 0.5632805\\\\\n",
       "\t 11        & 1.1851674 & 0.6178352\\\\\n",
       "\t 12        & 1.3073252 & 0.6983644\\\\\n",
       "\t 13        & 1.4158134 & 0.7859283\\\\\n",
       "\t 14        & 1.5184436 & 0.8736079\\\\\n",
       "\t 15        & 1.6256989 & 0.9307706\\\\\n",
       "\t 16        & 1.7313096 & 1.0067322\\\\\n",
       "\t 17        & 1.8373320 & 1.1050436\\\\\n",
       "\t 18        & 1.9283176 & 1.1834961\\\\\n",
       "\t 19        & 2.0324578 & 1.2667848\\\\\n",
       "\t 20        & 2.1379167 & 1.3555886\\\\\n",
       "\\end{tabular}\n"
      ],
      "text/markdown": [
       "\n",
       "K | train | test | \n",
       "|---|---|---|---|---|---|---|---|---|---|---|---|---|---|---|---|---|---|---|---|\n",
       "|  1        | 0.0000000 | 0.3935945 | \n",
       "|  2        | 0.1509632 | 0.4163139 | \n",
       "|  3        | 0.2914464 | 0.4326166 | \n",
       "|  4        | 0.3255072 | 0.4533746 | \n",
       "|  5        | 0.3976324 | 0.3669469 | \n",
       "|  6        | 0.4657130 | 0.4717088 | \n",
       "|  7        | 0.6405341 | 0.4996022 | \n",
       "|  8        | 0.7918818 | 0.4877006 | \n",
       "|  9        | 0.9444320 | 0.5032273 | \n",
       "| 10        | 1.0670213 | 0.5632805 | \n",
       "| 11        | 1.1851674 | 0.6178352 | \n",
       "| 12        | 1.3073252 | 0.6983644 | \n",
       "| 13        | 1.4158134 | 0.7859283 | \n",
       "| 14        | 1.5184436 | 0.8736079 | \n",
       "| 15        | 1.6256989 | 0.9307706 | \n",
       "| 16        | 1.7313096 | 1.0067322 | \n",
       "| 17        | 1.8373320 | 1.1050436 | \n",
       "| 18        | 1.9283176 | 1.1834961 | \n",
       "| 19        | 2.0324578 | 1.2667848 | \n",
       "| 20        | 2.1379167 | 1.3555886 | \n",
       "\n",
       "\n"
      ],
      "text/plain": [
       "   K  train     test     \n",
       "1   1 0.0000000 0.3935945\n",
       "2   2 0.1509632 0.4163139\n",
       "3   3 0.2914464 0.4326166\n",
       "4   4 0.3255072 0.4533746\n",
       "5   5 0.3976324 0.3669469\n",
       "6   6 0.4657130 0.4717088\n",
       "7   7 0.6405341 0.4996022\n",
       "8   8 0.7918818 0.4877006\n",
       "9   9 0.9444320 0.5032273\n",
       "10 10 1.0670213 0.5632805\n",
       "11 11 1.1851674 0.6178352\n",
       "12 12 1.3073252 0.6983644\n",
       "13 13 1.4158134 0.7859283\n",
       "14 14 1.5184436 0.8736079\n",
       "15 15 1.6256989 0.9307706\n",
       "16 16 1.7313096 1.0067322\n",
       "17 17 1.8373320 1.1050436\n",
       "18 18 1.9283176 1.1834961\n",
       "19 19 2.0324578 1.2667848\n",
       "20 20 2.1379167 1.3555886"
      ]
     },
     "metadata": {},
     "output_type": "display_data"
    }
   ],
   "source": [
    "#creating a data frame with K, train error and test error as columns. \n",
    "#Filling the data frame with zeros in train and test error columns\n",
    "error <- data.frame('K'=1:20, 'train'=rep(0,20), 'test'=rep(0,20))\n",
    "\n",
    "#for K=1 to 20\n",
    "for(i in 1:20){\n",
    "    y_test <- knn_regressor(train_data, train_label, test_data, K=i) #storing the regressed test values\n",
    "    y_train <- knn_regressor(train_data, train_label, train_data, K=i) #storing the regressed train values\n",
    "    \n",
    "    error[i, 'test'] <- sqrt(mean((test_label - y_test)^2)) #calculation of root mean square error for test data\n",
    "    error[i, 'train'] <- sqrt(mean((train_label - y_train)^2)) #calculation of root mean square error for train data   \n",
    "}\n",
    "\n",
    "error #printing the error dataframe"
   ]
  },
  {
   "cell_type": "markdown",
   "metadata": {},
   "source": [
    "## Loading required libraries"
   ]
  },
  {
   "cell_type": "code",
   "execution_count": 18,
   "metadata": {},
   "outputs": [
    {
     "name": "stderr",
     "output_type": "stream",
     "text": [
      "Warning message:\n",
      "\"package 'reshape' was built under R version 3.4.4\""
     ]
    }
   ],
   "source": [
    "library(reshape) #used to restructure the data in dataframe\n",
    "library(ggplot2) #used to plot graphs"
   ]
  },
  {
   "cell_type": "markdown",
   "metadata": {},
   "source": [
    "## Plotting RMSE vs 1/K"
   ]
  },
  {
   "cell_type": "code",
   "execution_count": 19,
   "metadata": {},
   "outputs": [
    {
     "data": {},
     "metadata": {},
     "output_type": "display_data"
    },
    {
     "data": {
      "image/png": "[encoded data removed]",
      "text/plain": [
       "plot without title"
      ]
     },
     "metadata": {},
     "output_type": "display_data"
    }
   ],
   "source": [
    "#reshaping the data frame\n",
    "error_melt <- melt(error, id ='K')\n",
    "names(error_melt) <- c('K','type','error') #assigning column names\n",
    "\n",
    "#plotting RMSE vs 1/K\n",
    "ggplot(data=error_melt, aes(x=1/K, y=error, color=type)) + geom_line() + geom_point() +\n",
    "       scale_color_discrete(guide = guide_legend(title = NULL)) + theme_minimal() +\n",
    "       ggtitle(\"Root Mean Square Error vs (1/K)\")"
   ]
  },
  {
   "cell_type": "markdown",
   "metadata": {},
   "source": [
    "## Insights"
   ]
  },
  {
   "cell_type": "markdown",
   "metadata": {},
   "source": [
    "The optimum value of K is the one where test error is minimum. From the above plot, we can see that the test error (blue line) is minimum at the value 0.2 (1/K) approximately. We get the optimum value of k = 5.\n",
    "\n",
    "Overfitting occurs when training error is zero, that is at K=1. So, for smaller values of K, overfitting occurs and as K increases, the model fits better and for higher K values, underfitting occurs as the train and test errors are high.\n",
    "\n",
    "From the above plot, we can observe that at K=1 and 2, overfitting occurs, and between K =3 and K=5, the model fits better. For higher K values which are greater than 5, underfitting occurs as train and test errors are high."
   ]
  }
 ],
 "metadata": {
  "kernelspec": {
   "display_name": "R",
   "language": "R",
   "name": "ir"
  },
  "language_info": {
   "codemirror_mode": "r",
   "file_extension": ".r",
   "mimetype": "text/x-r-source",
   "name": "R",
   "pygments_lexer": "r",
   "version": "3.4.3"
  }
 },
 "nbformat": 4,
 "nbformat_minor": 2
}
