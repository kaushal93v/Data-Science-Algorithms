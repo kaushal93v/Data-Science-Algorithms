{
 "cells": [
  {
   "cell_type": "markdown",
   "metadata": {},
   "source": [
    "# K-fold Cross Validation"
   ]
  },
  {
   "cell_type": "markdown",
   "metadata": {},
   "source": [
    "## Loading training data"
   ]
  },
  {
   "cell_type": "code",
   "execution_count": 1,
   "metadata": {},
   "outputs": [],
   "source": [
    "#loading training data\n",
    "train_data <- read.csv(\"Task1A_train.csv\")\n",
    "train_label <- train_data[1:nrow(train_data),2] #creating the training labels"
   ]
  },
  {
   "cell_type": "code",
   "execution_count": 2,
   "metadata": {},
   "outputs": [
    {
     "data": {
      "text/html": [
       "<table>\n",
       "<thead><tr><th scope=col>x1</th><th scope=col>y</th></tr></thead>\n",
       "<tbody>\n",
       "\t<tr><td>1960.0</td><td>0.71  </td></tr>\n",
       "\t<tr><td>1960.5</td><td>0.85  </td></tr>\n",
       "\t<tr><td>1961.0</td><td>0.61  </td></tr>\n",
       "\t<tr><td>1961.5</td><td>0.92  </td></tr>\n",
       "\t<tr><td>1962.0</td><td>0.72  </td></tr>\n",
       "\t<tr><td>1962.5</td><td>0.92  </td></tr>\n",
       "</tbody>\n",
       "</table>\n"
      ],
      "text/latex": [
       "\\begin{tabular}{r|ll}\n",
       " x1 & y\\\\\n",
       "\\hline\n",
       "\t 1960.0 & 0.71  \\\\\n",
       "\t 1960.5 & 0.85  \\\\\n",
       "\t 1961.0 & 0.61  \\\\\n",
       "\t 1961.5 & 0.92  \\\\\n",
       "\t 1962.0 & 0.72  \\\\\n",
       "\t 1962.5 & 0.92  \\\\\n",
       "\\end{tabular}\n"
      ],
      "text/markdown": [
       "\n",
       "x1 | y | \n",
       "|---|---|---|---|---|---|\n",
       "| 1960.0 | 0.71   | \n",
       "| 1960.5 | 0.85   | \n",
       "| 1961.0 | 0.61   | \n",
       "| 1961.5 | 0.92   | \n",
       "| 1962.0 | 0.72   | \n",
       "| 1962.5 | 0.92   | \n",
       "\n",
       "\n"
      ],
      "text/plain": [
       "  x1     y   \n",
       "1 1960.0 0.71\n",
       "2 1960.5 0.85\n",
       "3 1961.0 0.61\n",
       "4 1961.5 0.92\n",
       "5 1962.0 0.72\n",
       "6 1962.5 0.92"
      ]
     },
     "metadata": {},
     "output_type": "display_data"
    },
    {
     "data": {
      "text/html": [
       "<ol class=list-inline>\n",
       "\t<li>0.71</li>\n",
       "\t<li>0.85</li>\n",
       "\t<li>0.61</li>\n",
       "\t<li>0.92</li>\n",
       "\t<li>0.72</li>\n",
       "\t<li>0.92</li>\n",
       "</ol>\n"
      ],
      "text/latex": [
       "\\begin{enumerate*}\n",
       "\\item 0.71\n",
       "\\item 0.85\n",
       "\\item 0.61\n",
       "\\item 0.92\n",
       "\\item 0.72\n",
       "\\item 0.92\n",
       "\\end{enumerate*}\n"
      ],
      "text/markdown": [
       "1. 0.71\n",
       "2. 0.85\n",
       "3. 0.61\n",
       "4. 0.92\n",
       "5. 0.72\n",
       "6. 0.92\n",
       "\n",
       "\n"
      ],
      "text/plain": [
       "[1] 0.71 0.85 0.61 0.92 0.72 0.92"
      ]
     },
     "metadata": {},
     "output_type": "display_data"
    }
   ],
   "source": [
    "#printing out first 5 rows of train data and labels\n",
    "head(train_data)\n",
    "head(train_label)"
   ]
  },
  {
   "cell_type": "code",
   "execution_count": 3,
   "metadata": {},
   "outputs": [
    {
     "data": {
      "text/html": [
       "<ol class=list-inline>\n",
       "\t<li>42</li>\n",
       "\t<li>2</li>\n",
       "</ol>\n"
      ],
      "text/latex": [
       "\\begin{enumerate*}\n",
       "\\item 42\n",
       "\\item 2\n",
       "\\end{enumerate*}\n"
      ],
      "text/markdown": [
       "1. 42\n",
       "2. 2\n",
       "\n",
       "\n"
      ],
      "text/plain": [
       "[1] 42  2"
      ]
     },
     "metadata": {},
     "output_type": "display_data"
    }
   ],
   "source": [
    "#checking the dimensions of train dataset\n",
    "dim(train_data)"
   ]
  },
  {
   "cell_type": "markdown",
   "metadata": {},
   "source": [
    "## Implementation of KNN regressor function"
   ]
  },
  {
   "cell_type": "markdown",
   "metadata": {},
   "source": [
    "As mentioned in the question 1, we implement a function of KNN regressor"
   ]
  },
  {
   "cell_type": "code",
   "execution_count": 4,
   "metadata": {},
   "outputs": [],
   "source": [
    "#function to calcuate the average of the neighbour's values\n",
    "avg_neighbours <- function(x) {\n",
    "    avg <- mean(x)\n",
    "    return(avg)\n",
    "}\n",
    "\n",
    "#KNN regressor function\n",
    "knn_regressor <- function(train_data, train_label, test_data, K=3){\n",
    "    \n",
    "    train_len <- nrow(train_data) #length of train data\n",
    "    test_len <- nrow(test_data) #length of test data\n",
    "    \n",
    "    #distance matrix which calculates the distance between data points\n",
    "    dist <- as.matrix(dist(rbind(test_data, train_data), method= \"euclidean\"))[1:test_len, (test_len+1):(test_len+train_len)]\n",
    "    \n",
    "    regressed_vals <- c() #empty vector to store regressed values\n",
    "    \n",
    "    #iterating through the test data points\n",
    "    for (i in 1:test_len){\n",
    "        #finding the K nearest neighbours indices\n",
    "        ind <- as.data.frame(sort(dist[i,], index.return = TRUE))[1:K,2] \n",
    "        \n",
    "        d <- avg_neighbours(train_label[ind]) #calling the avg_distance function, argument as nearest training points\n",
    "        regressed_vals <- c(regressed_vals, d) #storing the calcuated regressed value int he vector created\n",
    "    }\n",
    "    \n",
    "   return(regressed_vals) #returns the regressed values\n",
    "\n",
    "}"
   ]
  },
  {
   "cell_type": "markdown",
   "metadata": {},
   "source": [
    "## Implementation of L-fold cross validation"
   ]
  },
  {
   "cell_type": "markdown",
   "metadata": {},
   "source": [
    "The function cv_fold takes 4 arguments train_data, train_label, number of folds(numfold) and neighbourhood size(K). It returns errors for different folds of the training data"
   ]
  },
  {
   "cell_type": "code",
   "execution_count": 5,
   "metadata": {},
   "outputs": [],
   "source": [
    "#L-fold cross validation function\n",
    "cv_fold <- function(train_data, train_label, numfold = 10, K = 10){\n",
    "\n",
    "folds <- cut(seq(1,nrow(train_data)), breaks=numfold, labels=FALSE) #creating folds of training data from 1 to 10\n",
    "    \n",
    "error <- data.frame('numfold' = 1:10, 'train_error' = rep(0,10)) #dataframe to store error values for each fold\n",
    "\n",
    "#for each fold\n",
    "for(i in 1:numfold){\n",
    "    #Generating the indices by fold using the which() function \n",
    "    train_index <- which(folds==i,arr.ind=TRUE)\n",
    "    \n",
    "    #splitting the training data using indices to test data and train data\n",
    "    testData <- train_data[train_index, ] \n",
    "    trainData <- train_data[-train_index, ]\n",
    "    \n",
    "    #splitting the training lables using indices to test labels and train labels\n",
    "    trainLabel <- train_label[-train_index]\n",
    "    testLabel <- train_label[train_index]\n",
    "    \n",
    "    #calling the knn regressor function which returns the regressed values\n",
    "    y_test <- knn_regressor(trainData, trainLabel, testData, K) \n",
    "    \n",
    "    #calcuation of root mean square error and storing it in dataframe created above\n",
    "    error[i, 'train_error'] <- sqrt(mean((y_test - testLabel)^2)) \n",
    "}\n",
    "    return(error) #returns errors for each fold\n",
    "}"
   ]
  },
  {
   "cell_type": "code",
   "execution_count": 6,
   "metadata": {},
   "outputs": [
    {
     "data": {
      "text/html": [
       "<table>\n",
       "<thead><tr><th scope=col>numfold</th><th scope=col>train_error</th></tr></thead>\n",
       "<tbody>\n",
       "\t<tr><td> 1       </td><td>0.1896781</td></tr>\n",
       "\t<tr><td> 2       </td><td>0.2117847</td></tr>\n",
       "\t<tr><td> 3       </td><td>0.2937355</td></tr>\n",
       "\t<tr><td> 4       </td><td>0.5275915</td></tr>\n",
       "\t<tr><td> 5       </td><td>0.7086960</td></tr>\n",
       "\t<tr><td> 6       </td><td>0.7223399</td></tr>\n",
       "\t<tr><td> 7       </td><td>0.4487483</td></tr>\n",
       "\t<tr><td> 8       </td><td>0.8180159</td></tr>\n",
       "\t<tr><td> 9       </td><td>1.0035437</td></tr>\n",
       "\t<tr><td>10       </td><td>4.5776107</td></tr>\n",
       "</tbody>\n",
       "</table>\n"
      ],
      "text/latex": [
       "\\begin{tabular}{r|ll}\n",
       " numfold & train\\_error\\\\\n",
       "\\hline\n",
       "\t  1        & 0.1896781\\\\\n",
       "\t  2        & 0.2117847\\\\\n",
       "\t  3        & 0.2937355\\\\\n",
       "\t  4        & 0.5275915\\\\\n",
       "\t  5        & 0.7086960\\\\\n",
       "\t  6        & 0.7223399\\\\\n",
       "\t  7        & 0.4487483\\\\\n",
       "\t  8        & 0.8180159\\\\\n",
       "\t  9        & 1.0035437\\\\\n",
       "\t 10        & 4.5776107\\\\\n",
       "\\end{tabular}\n"
      ],
      "text/markdown": [
       "\n",
       "numfold | train_error | \n",
       "|---|---|---|---|---|---|---|---|---|---|\n",
       "|  1        | 0.1896781 | \n",
       "|  2        | 0.2117847 | \n",
       "|  3        | 0.2937355 | \n",
       "|  4        | 0.5275915 | \n",
       "|  5        | 0.7086960 | \n",
       "|  6        | 0.7223399 | \n",
       "|  7        | 0.4487483 | \n",
       "|  8        | 0.8180159 | \n",
       "|  9        | 1.0035437 | \n",
       "| 10        | 4.5776107 | \n",
       "\n",
       "\n"
      ],
      "text/plain": [
       "   numfold train_error\n",
       "1   1      0.1896781  \n",
       "2   2      0.2117847  \n",
       "3   3      0.2937355  \n",
       "4   4      0.5275915  \n",
       "5   5      0.7086960  \n",
       "6   6      0.7223399  \n",
       "7   7      0.4487483  \n",
       "8   8      0.8180159  \n",
       "9   9      1.0035437  \n",
       "10 10      4.5776107  "
      ]
     },
     "metadata": {},
     "output_type": "display_data"
    }
   ],
   "source": [
    "cv_fold(train_data, train_label, numfold = 10, K = 3) #just for an example"
   ]
  },
  {
   "cell_type": "markdown",
   "metadata": {},
   "source": [
    "## Computation of average error for K = 1 to 20 "
   ]
  },
  {
   "cell_type": "code",
   "execution_count": 7,
   "metadata": {},
   "outputs": [
    {
     "data": {
      "text/html": [
       "<table>\n",
       "<thead><tr><th scope=col>K</th><th scope=col>train_error</th></tr></thead>\n",
       "<tbody>\n",
       "\t<tr><td> 1       </td><td>0.8758878</td></tr>\n",
       "\t<tr><td> 2       </td><td>0.9984137</td></tr>\n",
       "\t<tr><td> 3       </td><td>0.9501744</td></tr>\n",
       "\t<tr><td> 4       </td><td>0.8946280</td></tr>\n",
       "\t<tr><td> 5       </td><td>0.9225935</td></tr>\n",
       "\t<tr><td> 6       </td><td>0.9100440</td></tr>\n",
       "\t<tr><td> 7       </td><td>0.9477006</td></tr>\n",
       "\t<tr><td> 8       </td><td>0.9747168</td></tr>\n",
       "\t<tr><td> 9       </td><td>0.9750358</td></tr>\n",
       "\t<tr><td>10       </td><td>1.0156749</td></tr>\n",
       "\t<tr><td>11       </td><td>1.0656798</td></tr>\n",
       "\t<tr><td>12       </td><td>1.1205207</td></tr>\n",
       "\t<tr><td>13       </td><td>1.1886047</td></tr>\n",
       "\t<tr><td>14       </td><td>1.2063326</td></tr>\n",
       "\t<tr><td>15       </td><td>1.2956464</td></tr>\n",
       "\t<tr><td>16       </td><td>1.3439292</td></tr>\n",
       "\t<tr><td>17       </td><td>1.4471570</td></tr>\n",
       "\t<tr><td>18       </td><td>1.4922686</td></tr>\n",
       "\t<tr><td>19       </td><td>1.6259789</td></tr>\n",
       "\t<tr><td>20       </td><td>1.6915851</td></tr>\n",
       "</tbody>\n",
       "</table>\n"
      ],
      "text/latex": [
       "\\begin{tabular}{r|ll}\n",
       " K & train\\_error\\\\\n",
       "\\hline\n",
       "\t  1        & 0.8758878\\\\\n",
       "\t  2        & 0.9984137\\\\\n",
       "\t  3        & 0.9501744\\\\\n",
       "\t  4        & 0.8946280\\\\\n",
       "\t  5        & 0.9225935\\\\\n",
       "\t  6        & 0.9100440\\\\\n",
       "\t  7        & 0.9477006\\\\\n",
       "\t  8        & 0.9747168\\\\\n",
       "\t  9        & 0.9750358\\\\\n",
       "\t 10        & 1.0156749\\\\\n",
       "\t 11        & 1.0656798\\\\\n",
       "\t 12        & 1.1205207\\\\\n",
       "\t 13        & 1.1886047\\\\\n",
       "\t 14        & 1.2063326\\\\\n",
       "\t 15        & 1.2956464\\\\\n",
       "\t 16        & 1.3439292\\\\\n",
       "\t 17        & 1.4471570\\\\\n",
       "\t 18        & 1.4922686\\\\\n",
       "\t 19        & 1.6259789\\\\\n",
       "\t 20        & 1.6915851\\\\\n",
       "\\end{tabular}\n"
      ],
      "text/markdown": [
       "\n",
       "K | train_error | \n",
       "|---|---|---|---|---|---|---|---|---|---|---|---|---|---|---|---|---|---|---|---|\n",
       "|  1        | 0.8758878 | \n",
       "|  2        | 0.9984137 | \n",
       "|  3        | 0.9501744 | \n",
       "|  4        | 0.8946280 | \n",
       "|  5        | 0.9225935 | \n",
       "|  6        | 0.9100440 | \n",
       "|  7        | 0.9477006 | \n",
       "|  8        | 0.9747168 | \n",
       "|  9        | 0.9750358 | \n",
       "| 10        | 1.0156749 | \n",
       "| 11        | 1.0656798 | \n",
       "| 12        | 1.1205207 | \n",
       "| 13        | 1.1886047 | \n",
       "| 14        | 1.2063326 | \n",
       "| 15        | 1.2956464 | \n",
       "| 16        | 1.3439292 | \n",
       "| 17        | 1.4471570 | \n",
       "| 18        | 1.4922686 | \n",
       "| 19        | 1.6259789 | \n",
       "| 20        | 1.6915851 | \n",
       "\n",
       "\n"
      ],
      "text/plain": [
       "   K  train_error\n",
       "1   1 0.8758878  \n",
       "2   2 0.9984137  \n",
       "3   3 0.9501744  \n",
       "4   4 0.8946280  \n",
       "5   5 0.9225935  \n",
       "6   6 0.9100440  \n",
       "7   7 0.9477006  \n",
       "8   8 0.9747168  \n",
       "9   9 0.9750358  \n",
       "10 10 1.0156749  \n",
       "11 11 1.0656798  \n",
       "12 12 1.1205207  \n",
       "13 13 1.1886047  \n",
       "14 14 1.2063326  \n",
       "15 15 1.2956464  \n",
       "16 16 1.3439292  \n",
       "17 17 1.4471570  \n",
       "18 18 1.4922686  \n",
       "19 19 1.6259789  \n",
       "20 20 1.6915851  "
      ]
     },
     "metadata": {},
     "output_type": "display_data"
    }
   ],
   "source": [
    "#creating a dataframe with columns K=1 to 20, and training error set to zeroes\n",
    "error_df <- data.frame('K'=1:20, 'train_error'= rep(0,20))\n",
    "\n",
    "#for each K from 1 to 20\n",
    "for (k in 1:20){\n",
    "    \n",
    "    #calculation of errors for each K for 10 folds \n",
    "    errors <- cv_fold(train_data, train_label, numfold = 10, K=k) # calling cv_fold() function with numfold set to 10.\n",
    "    error_df[k, 'train_error'] <- mean(errors[,2]) #calcuation of average error for each K        \n",
    "}\n",
    "error_df #printing the error dataframe"
   ]
  },
  {
   "cell_type": "markdown",
   "metadata": {},
   "source": [
    "## Loading required libraries"
   ]
  },
  {
   "cell_type": "code",
   "execution_count": 8,
   "metadata": {},
   "outputs": [
    {
     "name": "stderr",
     "output_type": "stream",
     "text": [
      "Warning message:\n",
      "\"package 'reshape' was built under R version 3.4.4\""
     ]
    }
   ],
   "source": [
    "library(reshape) #used to restructure the data in dataframe\n",
    "library(ggplot2) #used to plot graphs"
   ]
  },
  {
   "cell_type": "markdown",
   "metadata": {},
   "source": [
    "## Plotting Average Error vs 1/K"
   ]
  },
  {
   "cell_type": "code",
   "execution_count": 9,
   "metadata": {
    "scrolled": true
   },
   "outputs": [
    {
     "data": {},
     "metadata": {},
     "output_type": "display_data"
    },
    {
     "data": {
      "image/png": "[encoded data removed]",
      "text/plain": [
       "plot without title"
      ]
     },
     "metadata": {},
     "output_type": "display_data"
    }
   ],
   "source": [
    "#reshaping the data frame\n",
    "error_melt <- melt(error_df, id ='K')\n",
    "names(error_melt) <- c('K','type','error') #assigning column names\n",
    "\n",
    "#plotting RMSE vs 1/K\n",
    "ggplot(data=error_melt, aes(x=1/K, y=error, color=type)) + geom_line() + geom_point() +\n",
    "       scale_color_discrete(guide = guide_legend(title = NULL)) + theme_minimal() +\n",
    "       ggtitle(\"Average Error vs (1/K)\")"
   ]
  },
  {
   "cell_type": "code",
   "execution_count": null,
   "metadata": {},
   "outputs": [],
   "source": [
    "#calculating optimum value of K\n",
    "min_error = which(error_df[,2] == min(error_df[,2]))\n",
    "min_error"
   ]
  },
  {
   "cell_type": "markdown",
   "metadata": {},
   "source": [
    "## Insights"
   ]
  },
  {
   "cell_type": "markdown",
   "metadata": {},
   "source": [
    "So, from the plot and above section, we can say that the optimum value of K is 1."
   ]
  }
 ],
 "metadata": {
  "kernelspec": {
   "display_name": "R",
   "language": "R",
   "name": "ir"
  },
  "language_info": {
   "codemirror_mode": "r",
   "file_extension": ".r",
   "mimetype": "text/x-r-source",
   "name": "R",
   "pygments_lexer": "r",
   "version": "3.4.3"
  }
 },
 "nbformat": 4,
 "nbformat_minor": 2
}
