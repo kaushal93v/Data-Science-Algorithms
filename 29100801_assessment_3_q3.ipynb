{
 "cells": [
  {
   "cell_type": "markdown",
   "metadata": {},
   "source": [
    "# Self-Taught Learning"
   ]
  },
  {
   "cell_type": "markdown",
   "metadata": {},
   "source": [
    "## Auxiliary functions"
   ]
  },
  {
   "cell_type": "code",
   "execution_count": 162,
   "metadata": {},
   "outputs": [],
   "source": [
    "#Error function to calculate mis-classification\n",
    "error.rate <- function(Y1, T1){\n",
    "  if (nrow(Y1)!=nrow(T1)){\n",
    "    stop('error.rate: size of true lables and predicted labels mismatch')\n",
    "  }\n",
    "  return (sum(T1!=Y1)/nrow(T1))\n",
    "}\n",
    "\n",
    "## Accuracy function \n",
    "accuracy <- function(Y, T){\n",
    "    return (100*sum(Y==T)/dim(T)[1])\n",
    "}"
   ]
  },
  {
   "cell_type": "markdown",
   "metadata": {},
   "source": [
    "## Task - I: Loading libraries and data files"
   ]
  },
  {
   "cell_type": "code",
   "execution_count": 163,
   "metadata": {},
   "outputs": [
    {
     "name": "stdout",
     "output_type": "stream",
     "text": [
      " Connection successful!\n",
      "\n",
      "R is connected to the H2O cluster: \n",
      "    H2O cluster uptime:         19 hours 25 minutes \n",
      "    H2O cluster timezone:       Australia/Sydney \n",
      "    H2O data parsing timezone:  UTC \n",
      "    H2O cluster version:        3.20.0.9 \n",
      "    H2O cluster version age:    12 days  \n",
      "    H2O cluster name:           H2O_started_from_R_kaush_jro703 \n",
      "    H2O cluster total nodes:    1 \n",
      "    H2O cluster total memory:   4.14 GB \n",
      "    H2O cluster total cores:    4 \n",
      "    H2O cluster allowed cores:  4 \n",
      "    H2O cluster healthy:        TRUE \n",
      "    H2O Connection ip:          localhost \n",
      "    H2O Connection port:        54321 \n",
      "    H2O Connection proxy:       NA \n",
      "    H2O Internal Security:      FALSE \n",
      "    H2O API Extensions:         Algos, AutoML, Core V3, Core V4 \n",
      "    R Version:                  R version 3.4.3 (2017-11-30) \n",
      "\n"
     ]
    }
   ],
   "source": [
    "# loading libraries\n",
    "options(warn=-1)\n",
    "library(h2o)\n",
    "#If there is a proxy: proxy.old <- Sys.getenv('http_proxy'); Sys.setenv('http_proxy'='');\n",
    "localH2O =  h2o.init(nthreads = -1, port = 54321, max_mem_size = '6G', startH2O = TRUE)\n",
    "\n",
    "library(ggplot2)\n",
    "library(reshape)"
   ]
  },
  {
   "cell_type": "code",
   "execution_count": 164,
   "metadata": {},
   "outputs": [
    {
     "name": "stdout",
     "output_type": "stream",
     "text": [
      "  |======================================================================| 100%\n",
      "  |======================================================================| 100%\n",
      "  |======================================================================| 100%\n"
     ]
    }
   ],
   "source": [
    "# Students: Use the \"absolute\" path to the datasets on your machine (important)\n",
    "labeled.frame <- h2o.importFile(path = 'C:/Users/kaush/Desktop/SEM-3/DAA/Assignment2/Task2C_labeled.csv' ,sep=',') \n",
    "unlabeled.frame <- h2o.importFile(path = 'C:/Users/kaush/Desktop/SEM-3/DAA/Assignment2/Task2C_unlabeled.csv' ,sep=',') \n",
    "test.frame <- h2o.importFile(path = 'C:/Users/kaush/Desktop/SEM-3/DAA/Assignment2/Task2C_test.csv' ,sep=',') \n",
    "\n",
    "labeled.frame[,1] <- as.factor(labeled.frame$label)\n",
    "unlabeled.frame[,1] <- NA\n",
    "train.frame <- h2o.rbind(labeled.frame[,-1], unlabeled.frame[,-1])\n",
    "test.frame[,1] <- as.factor(test.frame$label)"
   ]
  },
  {
   "cell_type": "markdown",
   "metadata": {},
   "source": [
    "## Task - II: Training an Autoencoder with increasing neurons in the hidden layer\n",
    "## Task - III: For each model in Task - II, record the reconstruction error\n",
    "## Task - V: Add the output of the middle layer as extra features to the original feature set,: Add the output of the middle layer as extra features to the original feature set and train 3-layer NN\n"
   ]
  },
  {
   "cell_type": "markdown",
   "metadata": {},
   "source": [
    "We run the Task-2,3, and 5 together to optimize the execution time. We train the autoencoder using h20.deeplearning for different number of neurons in the hidden layer. Then, we calculate the reconstruction errors. Next, we add the output of the middle layer as extra features to the original feature and train 3-layer NN. Then, we calculate the mis-classification errors for different number of extra features."
   ]
  },
  {
   "cell_type": "code",
   "execution_count": 165,
   "metadata": {},
   "outputs": [
    {
     "name": "stdout",
     "output_type": "stream",
     "text": [
      "  |======================================================================| 100%\n",
      "  |======================================================================| 100%\n",
      "  |======================================================================| 100%\n",
      "  |======================================================================| 100%\n",
      "  |======================================================================| 100%\n",
      "  |======================================================================| 100%\n",
      "  |======================================================================| 100%\n",
      "  |======================================================================| 100%\n",
      "  |======================================================================| 100%\n",
      "  |======================================================================| 100%\n",
      "  |======================================================================| 100%\n",
      "  |======================================================================| 100%\n",
      "  |======================================================================| 100%\n",
      "  |======================================================================| 100%\n",
      "  |======================================================================| 100%\n",
      "  |======================================================================| 100%\n",
      "  |======================================================================| 100%\n",
      "  |======================================================================| 100%\n",
      "  |======================================================================| 100%\n",
      "  |======================================================================| 100%\n",
      "  |======================================================================| 100%\n",
      "  |======================================================================| 100%\n",
      "  |======================================================================| 100%\n",
      "  |======================================================================| 100%\n",
      "  |======================================================================| 100%\n",
      "  |======================================================================| 100%\n",
      "  |======================================================================| 100%\n",
      "  |======================================================================| 100%\n",
      "  |======================================================================| 100%\n",
      "  |======================================================================| 100%\n",
      "  |======================================================================| 100%\n",
      "  |======================================================================| 100%\n",
      "  |======================================================================| 100%\n",
      "  |======================================================================| 100%\n",
      "  |======================================================================| 100%\n",
      "  |======================================================================| 100%\n",
      "  |======================================================================| 100%\n",
      "  |======================================================================| 100%\n",
      "  |======================================================================| 100%\n",
      "  |======================================================================| 100%\n",
      "  |======================================================================| 100%\n",
      "  |======================================================================| 100%\n",
      "  |======================================================================| 100%\n",
      "  |======================================================================| 100%\n",
      "  |======================================================================| 100%\n",
      "  |======================================================================| 100%\n",
      "  |======================================================================| 100%\n",
      "  |======================================================================| 100%\n",
      "  |======================================================================| 100%\n",
      "  |======================================================================| 100%\n",
      "  |======================================================================| 100%\n",
      "  |======================================================================| 100%\n",
      "  |======================================================================| 100%\n",
      "  |======================================================================| 100%\n",
      "  |======================================================================| 100%\n",
      "  |======================================================================| 100%\n",
      "  |======================================================================| 100%\n",
      "  |======================================================================| 100%\n",
      "  |======================================================================| 100%\n",
      "  |======================================================================| 100%\n",
      "  |======================================================================| 100%\n",
      "  |======================================================================| 100%\n",
      "  |======================================================================| 100%\n",
      "  |======================================================================| 100%\n",
      "  |======================================================================| 100%\n",
      "  |======================================================================| 100%\n",
      "  |======================================================================| 100%\n",
      "  |======================================================================| 100%\n",
      "  |======================================================================| 100%\n",
      "  |======================================================================| 100%\n",
      "  |======================================================================| 100%\n",
      "  |======================================================================| 100%\n",
      "  |======================================================================| 100%\n",
      "  |======================================================================| 100%\n",
      "  |======================================================================| 100%\n",
      "  |======================================================================| 100%\n",
      "  |======================================================================| 100%\n",
      "  |======================================================================| 100%\n",
      "  |======================================================================| 100%\n",
      "  |======================================================================| 100%\n",
      "  |======================================================================| 100%\n",
      "  |======================================================================| 100%\n",
      "  |======================================================================| 100%\n",
      "  |======================================================================| 100%\n",
      "  |======================================================================| 100%\n",
      "  |======================================================================| 100%\n",
      "  |======================================================================| 100%\n",
      "  |======================================================================| 100%\n",
      "  |======================================================================| 100%\n",
      "  |======================================================================| 100%\n",
      "  |======================================================================| 100%\n",
      "  |======================================================================| 100%\n",
      "  |======================================================================| 100%\n",
      "  |======================================================================| 100%\n",
      "  |======================================================================| 100%\n",
      "  |======================================================================| 100%\n",
      "  |======================================================================| 100%\n",
      "  |======================================================================| 100%\n",
      "  |======================================================================| 100%\n",
      "  |======================================================================| 100%\n"
     ]
    }
   ],
   "source": [
    "# create a sequence of hidden nodes\n",
    "hid_nodes <- seq(from = 20, to = 500,by = 20)\n",
    "\n",
    "#create a data frame to store reconstruction errors\n",
    "rec_errors <- as.data.frame(matrix(0, nrow = length(hid_nodes), ncol = 2))\n",
    "# naming columns for the reconstruction errors dataframe\n",
    "colnames(rec_errors) <- c('Num_hidden_nodes','Rec_Error')\n",
    "\n",
    "#create a data frame to store classification test error\n",
    "class_test_errors <- as.data.frame(matrix(0, nrow = length(hid_nodes), ncol = 2))\n",
    "colnames(class_test_errors) <- c('Num_extra_features','Classification_test_error')\n",
    "\n",
    "#increasing the number of nodes in the hidden layer in each iteration\n",
    "for(n in hid_nodes){\n",
    "    \n",
    "    # Task-II: building an autoencoder model\n",
    "    encoder_model <- h2o.deeplearning(    \n",
    "    x = 1:ncol(train.frame), # select all pixels\n",
    "    training_frame = train.frame, # specify the frame (imported file)    \n",
    "    hidden = c(n), # number of layers and their units\n",
    "    epochs = 100, # maximum number of epochs  \n",
    "    activation = 'Tanh', # activation function \n",
    "    autoencoder = TRUE  # is it an autoencoder? Yes!\n",
    "    )\n",
    "    \n",
    "    # Task-III: Recording the reconstruction errors\n",
    "    #save the number of hidden nodes in the first column\n",
    "    rec_errors[n/20,1] <- n \n",
    "    \n",
    "    #calculation of reconstruction errors using h2o.anomaly and storing in respective errors dataframe\n",
    "    rec_errors[n/20,2] <- mean(h2o.anomaly(encoder_model, train.frame))   \n",
    "    \n",
    "    # Task-V: Building augmented self taught networks\n",
    "    # a: Add the output of the middle layer as extra features to the original feature set\n",
    "    # Extract output of the middle layer as extra features using h2o.deepfeatures function\n",
    "    extra_features = h2o.deepfeatures(encoder_model, labeled.frame[,-1], layer=1)\n",
    "    combined.frame <- h2o.cbind(labeled.frame, extra_features)\n",
    "    \n",
    "    #b:Train the above built 3 layer NN using all the features (original + extra) i.e. combined.frame\n",
    "    nn_model <- h2o.deeplearning(    \n",
    "      x = 2:ncol(combined.frame), # select all pixels + extra features\n",
    "      y = 1,\n",
    "      training_frame = combined.frame, # specify the frame (imported file)    \n",
    "      hidden = c(100), # number of layers and their units\n",
    "      epochs = 50, # maximum number of epoches  \n",
    "      activation = 'Tanh', # activation function \n",
    "      autoencoder = FALSE, # is it an autoencoder? Yes!\n",
    "      l2 = 0.1\n",
    "    )\n",
    "    \n",
    "    # predict class labels using test.frame and built classifier\n",
    "    test.predict <- h2o.predict(nn_model, test.frame)$predict\n",
    "     \n",
    "    # now calculate and record the test error.\n",
    "    class_test_errors[n/20, 1] <- n \n",
    "    class_test_errors[n/20, 2] <- error.rate(test.frame$label, test.predict)\n",
    "    \n",
    "}"
   ]
  },
  {
   "cell_type": "code",
   "execution_count": 166,
   "metadata": {},
   "outputs": [
    {
     "data": {
      "text/html": [
       "<table>\n",
       "<thead><tr><th scope=col>Num_hidden_nodes</th><th scope=col>Rec_Error</th></tr></thead>\n",
       "<tbody>\n",
       "\t<tr><td> 20        </td><td>0.033052840</td></tr>\n",
       "\t<tr><td> 40        </td><td>0.020901814</td></tr>\n",
       "\t<tr><td> 60        </td><td>0.015187131</td></tr>\n",
       "\t<tr><td> 80        </td><td>0.012274414</td></tr>\n",
       "\t<tr><td>100        </td><td>0.011316649</td></tr>\n",
       "\t<tr><td>120        </td><td>0.009434102</td></tr>\n",
       "\t<tr><td>140        </td><td>0.008026671</td></tr>\n",
       "\t<tr><td>160        </td><td>0.007226092</td></tr>\n",
       "\t<tr><td>180        </td><td>0.006066900</td></tr>\n",
       "\t<tr><td>200        </td><td>0.006100284</td></tr>\n",
       "\t<tr><td>220        </td><td>0.005844381</td></tr>\n",
       "\t<tr><td>240        </td><td>0.005043043</td></tr>\n",
       "\t<tr><td>260        </td><td>0.004864784</td></tr>\n",
       "\t<tr><td>280        </td><td>0.005018699</td></tr>\n",
       "\t<tr><td>300        </td><td>0.004284030</td></tr>\n",
       "\t<tr><td>320        </td><td>0.004143166</td></tr>\n",
       "\t<tr><td>340        </td><td>0.003931924</td></tr>\n",
       "\t<tr><td>360        </td><td>0.003590973</td></tr>\n",
       "\t<tr><td>380        </td><td>0.003455392</td></tr>\n",
       "\t<tr><td>400        </td><td>0.003698048</td></tr>\n",
       "\t<tr><td>420        </td><td>0.002613043</td></tr>\n",
       "\t<tr><td>440        </td><td>0.002684957</td></tr>\n",
       "\t<tr><td>460        </td><td>0.002898230</td></tr>\n",
       "\t<tr><td>480        </td><td>0.002722576</td></tr>\n",
       "\t<tr><td>500        </td><td>0.002865176</td></tr>\n",
       "</tbody>\n",
       "</table>\n"
      ],
      "text/latex": [
       "\\begin{tabular}{r|ll}\n",
       " Num\\_hidden\\_nodes & Rec\\_Error\\\\\n",
       "\\hline\n",
       "\t  20         & 0.033052840\\\\\n",
       "\t  40         & 0.020901814\\\\\n",
       "\t  60         & 0.015187131\\\\\n",
       "\t  80         & 0.012274414\\\\\n",
       "\t 100         & 0.011316649\\\\\n",
       "\t 120         & 0.009434102\\\\\n",
       "\t 140         & 0.008026671\\\\\n",
       "\t 160         & 0.007226092\\\\\n",
       "\t 180         & 0.006066900\\\\\n",
       "\t 200         & 0.006100284\\\\\n",
       "\t 220         & 0.005844381\\\\\n",
       "\t 240         & 0.005043043\\\\\n",
       "\t 260         & 0.004864784\\\\\n",
       "\t 280         & 0.005018699\\\\\n",
       "\t 300         & 0.004284030\\\\\n",
       "\t 320         & 0.004143166\\\\\n",
       "\t 340         & 0.003931924\\\\\n",
       "\t 360         & 0.003590973\\\\\n",
       "\t 380         & 0.003455392\\\\\n",
       "\t 400         & 0.003698048\\\\\n",
       "\t 420         & 0.002613043\\\\\n",
       "\t 440         & 0.002684957\\\\\n",
       "\t 460         & 0.002898230\\\\\n",
       "\t 480         & 0.002722576\\\\\n",
       "\t 500         & 0.002865176\\\\\n",
       "\\end{tabular}\n"
      ],
      "text/markdown": [
       "\n",
       "Num_hidden_nodes | Rec_Error | \n",
       "|---|---|---|---|---|---|---|---|---|---|---|---|---|---|---|---|---|---|---|---|---|---|---|---|---|\n",
       "|  20         | 0.033052840 | \n",
       "|  40         | 0.020901814 | \n",
       "|  60         | 0.015187131 | \n",
       "|  80         | 0.012274414 | \n",
       "| 100         | 0.011316649 | \n",
       "| 120         | 0.009434102 | \n",
       "| 140         | 0.008026671 | \n",
       "| 160         | 0.007226092 | \n",
       "| 180         | 0.006066900 | \n",
       "| 200         | 0.006100284 | \n",
       "| 220         | 0.005844381 | \n",
       "| 240         | 0.005043043 | \n",
       "| 260         | 0.004864784 | \n",
       "| 280         | 0.005018699 | \n",
       "| 300         | 0.004284030 | \n",
       "| 320         | 0.004143166 | \n",
       "| 340         | 0.003931924 | \n",
       "| 360         | 0.003590973 | \n",
       "| 380         | 0.003455392 | \n",
       "| 400         | 0.003698048 | \n",
       "| 420         | 0.002613043 | \n",
       "| 440         | 0.002684957 | \n",
       "| 460         | 0.002898230 | \n",
       "| 480         | 0.002722576 | \n",
       "| 500         | 0.002865176 | \n",
       "\n",
       "\n"
      ],
      "text/plain": [
       "   Num_hidden_nodes Rec_Error  \n",
       "1   20              0.033052840\n",
       "2   40              0.020901814\n",
       "3   60              0.015187131\n",
       "4   80              0.012274414\n",
       "5  100              0.011316649\n",
       "6  120              0.009434102\n",
       "7  140              0.008026671\n",
       "8  160              0.007226092\n",
       "9  180              0.006066900\n",
       "10 200              0.006100284\n",
       "11 220              0.005844381\n",
       "12 240              0.005043043\n",
       "13 260              0.004864784\n",
       "14 280              0.005018699\n",
       "15 300              0.004284030\n",
       "16 320              0.004143166\n",
       "17 340              0.003931924\n",
       "18 360              0.003590973\n",
       "19 380              0.003455392\n",
       "20 400              0.003698048\n",
       "21 420              0.002613043\n",
       "22 440              0.002684957\n",
       "23 460              0.002898230\n",
       "24 480              0.002722576\n",
       "25 500              0.002865176"
      ]
     },
     "metadata": {},
     "output_type": "display_data"
    },
    {
     "data": {
      "text/html": [
       "<table>\n",
       "<thead><tr><th scope=col>Num_extra_features</th><th scope=col>Classification_test_error</th></tr></thead>\n",
       "<tbody>\n",
       "\t<tr><td> 20  </td><td>0.589</td></tr>\n",
       "\t<tr><td> 40  </td><td>0.571</td></tr>\n",
       "\t<tr><td> 60  </td><td>0.602</td></tr>\n",
       "\t<tr><td> 80  </td><td>0.548</td></tr>\n",
       "\t<tr><td>100  </td><td>0.531</td></tr>\n",
       "\t<tr><td>120  </td><td>0.547</td></tr>\n",
       "\t<tr><td>140  </td><td>0.583</td></tr>\n",
       "\t<tr><td>160  </td><td>0.563</td></tr>\n",
       "\t<tr><td>180  </td><td>0.635</td></tr>\n",
       "\t<tr><td>200  </td><td>0.635</td></tr>\n",
       "\t<tr><td>220  </td><td>0.574</td></tr>\n",
       "\t<tr><td>240  </td><td>0.625</td></tr>\n",
       "\t<tr><td>260  </td><td>0.544</td></tr>\n",
       "\t<tr><td>280  </td><td>0.587</td></tr>\n",
       "\t<tr><td>300  </td><td>0.610</td></tr>\n",
       "\t<tr><td>320  </td><td>0.583</td></tr>\n",
       "\t<tr><td>340  </td><td>0.520</td></tr>\n",
       "\t<tr><td>360  </td><td>0.619</td></tr>\n",
       "\t<tr><td>380  </td><td>0.514</td></tr>\n",
       "\t<tr><td>400  </td><td>0.562</td></tr>\n",
       "\t<tr><td>420  </td><td>0.548</td></tr>\n",
       "\t<tr><td>440  </td><td>0.542</td></tr>\n",
       "\t<tr><td>460  </td><td>0.509</td></tr>\n",
       "\t<tr><td>480  </td><td>0.604</td></tr>\n",
       "\t<tr><td>500  </td><td>0.531</td></tr>\n",
       "</tbody>\n",
       "</table>\n"
      ],
      "text/latex": [
       "\\begin{tabular}{r|ll}\n",
       " Num\\_extra\\_features & Classification\\_test\\_error\\\\\n",
       "\\hline\n",
       "\t  20   & 0.589\\\\\n",
       "\t  40   & 0.571\\\\\n",
       "\t  60   & 0.602\\\\\n",
       "\t  80   & 0.548\\\\\n",
       "\t 100   & 0.531\\\\\n",
       "\t 120   & 0.547\\\\\n",
       "\t 140   & 0.583\\\\\n",
       "\t 160   & 0.563\\\\\n",
       "\t 180   & 0.635\\\\\n",
       "\t 200   & 0.635\\\\\n",
       "\t 220   & 0.574\\\\\n",
       "\t 240   & 0.625\\\\\n",
       "\t 260   & 0.544\\\\\n",
       "\t 280   & 0.587\\\\\n",
       "\t 300   & 0.610\\\\\n",
       "\t 320   & 0.583\\\\\n",
       "\t 340   & 0.520\\\\\n",
       "\t 360   & 0.619\\\\\n",
       "\t 380   & 0.514\\\\\n",
       "\t 400   & 0.562\\\\\n",
       "\t 420   & 0.548\\\\\n",
       "\t 440   & 0.542\\\\\n",
       "\t 460   & 0.509\\\\\n",
       "\t 480   & 0.604\\\\\n",
       "\t 500   & 0.531\\\\\n",
       "\\end{tabular}\n"
      ],
      "text/markdown": [
       "\n",
       "Num_extra_features | Classification_test_error | \n",
       "|---|---|---|---|---|---|---|---|---|---|---|---|---|---|---|---|---|---|---|---|---|---|---|---|---|\n",
       "|  20   | 0.589 | \n",
       "|  40   | 0.571 | \n",
       "|  60   | 0.602 | \n",
       "|  80   | 0.548 | \n",
       "| 100   | 0.531 | \n",
       "| 120   | 0.547 | \n",
       "| 140   | 0.583 | \n",
       "| 160   | 0.563 | \n",
       "| 180   | 0.635 | \n",
       "| 200   | 0.635 | \n",
       "| 220   | 0.574 | \n",
       "| 240   | 0.625 | \n",
       "| 260   | 0.544 | \n",
       "| 280   | 0.587 | \n",
       "| 300   | 0.610 | \n",
       "| 320   | 0.583 | \n",
       "| 340   | 0.520 | \n",
       "| 360   | 0.619 | \n",
       "| 380   | 0.514 | \n",
       "| 400   | 0.562 | \n",
       "| 420   | 0.548 | \n",
       "| 440   | 0.542 | \n",
       "| 460   | 0.509 | \n",
       "| 480   | 0.604 | \n",
       "| 500   | 0.531 | \n",
       "\n",
       "\n"
      ],
      "text/plain": [
       "   Num_extra_features Classification_test_error\n",
       "1   20                0.589                    \n",
       "2   40                0.571                    \n",
       "3   60                0.602                    \n",
       "4   80                0.548                    \n",
       "5  100                0.531                    \n",
       "6  120                0.547                    \n",
       "7  140                0.583                    \n",
       "8  160                0.563                    \n",
       "9  180                0.635                    \n",
       "10 200                0.635                    \n",
       "11 220                0.574                    \n",
       "12 240                0.625                    \n",
       "13 260                0.544                    \n",
       "14 280                0.587                    \n",
       "15 300                0.610                    \n",
       "16 320                0.583                    \n",
       "17 340                0.520                    \n",
       "18 360                0.619                    \n",
       "19 380                0.514                    \n",
       "20 400                0.562                    \n",
       "21 420                0.548                    \n",
       "22 440                0.542                    \n",
       "23 460                0.509                    \n",
       "24 480                0.604                    \n",
       "25 500                0.531                    "
      ]
     },
     "metadata": {},
     "output_type": "display_data"
    }
   ],
   "source": [
    "#displaying reconstruction errors\n",
    "rec_errors\n",
    "#displaying 3-NN classification test errors \n",
    "class_test_errors"
   ]
  },
  {
   "cell_type": "markdown",
   "metadata": {},
   "source": [
    "### Plotting reconstruction errors vs number of units in the middle layer"
   ]
  },
  {
   "cell_type": "code",
   "execution_count": 167,
   "metadata": {
    "scrolled": true
   },
   "outputs": [
    {
     "data": {},
     "metadata": {},
     "output_type": "display_data"
    },
    {
     "data": {
      "image/png": "[encoded data removed]",
      "text/plain": [
       "plot without title"
      ]
     },
     "metadata": {},
     "output_type": "display_data"
    }
   ],
   "source": [
    "# plotting reconstruction errors vs number of units in the middle layer\n",
    "ggplot(data=rec_errors, aes(x=Num_hidden_nodes, y=Rec_Error)) +\n",
    "    ggtitle(\"Reconstruction errors vs number of units in the middle layer\") +\n",
    "    geom_line(color = \"black\") + theme_bw()"
   ]
  },
  {
   "cell_type": "markdown",
   "metadata": {},
   "source": [
    "## Task - IV: Build a 3-layer NN classifier"
   ]
  },
  {
   "cell_type": "code",
   "execution_count": 168,
   "metadata": {},
   "outputs": [
    {
     "name": "stdout",
     "output_type": "stream",
     "text": [
      "  |======================================================================| 100%\n"
     ]
    }
   ],
   "source": [
    "# build a neural network classifier based on the labeled training data\n",
    "NN.model <- h2o.deeplearning(    \n",
    "  x = 2:ncol(labeled.frame), # select all pixels + extra features\n",
    "  y = 1,\n",
    "  training_frame = labeled.frame, # specify the frame (imported file)    \n",
    "  hidden = c(100), # number of layers and their units\n",
    "  epochs = 50, # maximum number of epoches  \n",
    "  activation = 'Tanh', # activation function \n",
    "  autoencoder = FALSE, # is it an autoencoder? Yes!\n",
    "  l2 = 0.1\n",
    ")"
   ]
  },
  {
   "cell_type": "markdown",
   "metadata": {},
   "source": [
    "We predict the labels using h2o.predict function and calculate accuracy and mis-classification error of training data."
   ]
  },
  {
   "cell_type": "code",
   "execution_count": 169,
   "metadata": {},
   "outputs": [
    {
     "name": "stdout",
     "output_type": "stream",
     "text": [
      "  |======================================================================| 100%\n"
     ]
    },
    {
     "data": {
      "text/html": [
       "96"
      ],
      "text/latex": [
       "96"
      ],
      "text/markdown": [
       "96"
      ],
      "text/plain": [
       "[1] 96"
      ]
     },
     "metadata": {},
     "output_type": "display_data"
    },
    {
     "data": {
      "text/html": [
       "0.04"
      ],
      "text/latex": [
       "0.04"
      ],
      "text/markdown": [
       "0.04"
      ],
      "text/plain": [
       "[1] 0.04"
      ]
     },
     "metadata": {},
     "output_type": "display_data"
    }
   ],
   "source": [
    "# predict class labels using labeled.frame and built classifier\n",
    "labeled.predict <- h2o.predict(NN.model, labeled.frame)$predict\n",
    "# Calculation of Accuracy of the built classifier on training data\n",
    "accuracy(labeled.frame$label, labeled.predict)\n",
    "# Calculation of training error of the built classifier by calling error function\n",
    "error.rate(labeled.frame$label, labeled.predict)"
   ]
  },
  {
   "cell_type": "markdown",
   "metadata": {},
   "source": [
    "We calculate the test error now."
   ]
  },
  {
   "cell_type": "code",
   "execution_count": 170,
   "metadata": {
    "scrolled": true
   },
   "outputs": [
    {
     "name": "stdout",
     "output_type": "stream",
     "text": [
      "  |======================================================================| 100%\n"
     ]
    },
    {
     "data": {
      "text/html": [
       "0.505"
      ],
      "text/latex": [
       "0.505"
      ],
      "text/markdown": [
       "0.505"
      ],
      "text/plain": [
       "[1] 0.505"
      ]
     },
     "metadata": {},
     "output_type": "display_data"
    }
   ],
   "source": [
    "# predict class labels using test.frame and built classifier\n",
    "test.predict <- h2o.predict(NN.model, test.frame)$predict\n",
    "\n",
    "# Calculation of test error by calling error function\n",
    "error.rate(test.frame$label, test.predict)"
   ]
  },
  {
   "cell_type": "markdown",
   "metadata": {},
   "source": [
    "## Task- VI: Plotting classification errors vs number of extra features"
   ]
  },
  {
   "cell_type": "code",
   "execution_count": 171,
   "metadata": {},
   "outputs": [
    {
     "data": {},
     "metadata": {},
     "output_type": "display_data"
    },
    {
     "data": {
      "image/png": "[encoded data removed]",
      "text/plain": [
       "plot without title"
      ]
     },
     "metadata": {},
     "output_type": "display_data"
    }
   ],
   "source": [
    "# Plotting classification errors vs number of extra features\n",
    "ggplot(data=class_test_errors, aes(x=Num_extra_features, y=Classification_test_error)) +\n",
    "   ggtitle(\"Classification errors vs number of extra features\") +\n",
    "    geom_line(color = \"black\") + theme_bw()"
   ]
  },
  {
   "cell_type": "markdown",
   "metadata": {},
   "source": [
    "## Task - VII: Reporting Optimum number of units in the middle layer of the autoencoder in terms of reconstruction and misclassification errors"
   ]
  },
  {
   "cell_type": "code",
   "execution_count": 172,
   "metadata": {},
   "outputs": [],
   "source": [
    "# calculation of minimum reconstruction error\n",
    "min_rec_error <- min(rec_errors[,2])\n",
    "# calculation of minimum classification error\n",
    "min_class_error <- min(class_test_errors[,2])\n",
    "\n",
    "# optimum number of units in the middle layer \n",
    "opt_num_rec <- rec_errors[rec_errors[,2] == min(rec_errors[,2]),]$Num_hidden_nodes\n",
    "opt_num_class <- class_test_errors[class_test_errors[,2] == min(class_test_errors[,2]),]$Num_extra_features"
   ]
  },
  {
   "cell_type": "code",
   "execution_count": 177,
   "metadata": {},
   "outputs": [
    {
     "name": "stdout",
     "output_type": "stream",
     "text": [
      "The minimum reconstruction error is  0.002613043\n",
      "The minimum classification error is  0.509"
     ]
    }
   ],
   "source": [
    "# Minimum Reconstruction and Classification Error\n",
    "cat('The minimum reconstruction error is ', min_rec_error)\n",
    "cat('\\n')\n",
    "cat('The minimum classification error is ',min_class_error)"
   ]
  },
  {
   "cell_type": "code",
   "execution_count": 178,
   "metadata": {},
   "outputs": [
    {
     "name": "stdout",
     "output_type": "stream",
     "text": [
      "The Optimum number of units in the middle layer of the autoencoder in terms of reconstruction error is  420\n",
      "The Optimum number of units in the middle layer of the autoencoder in terms of classification error is  460"
     ]
    }
   ],
   "source": [
    "# Optimum number of units in the middle layer of the autoencoder\n",
    "cat('The Optimum number of units in the middle layer of the autoencoder in terms of reconstruction error is ', opt_num_rec)\n",
    "cat('\\n')\n",
    "cat('The Optimum number of units in the middle layer of the autoencoder in terms of classification error is ',opt_num_class)"
   ]
  },
  {
   "cell_type": "markdown",
   "metadata": {},
   "source": [
    "## Task - VIII: Difference between Perceptron and NN"
   ]
  },
  {
   "cell_type": "markdown",
   "metadata": {},
   "source": [
    "This is discussed in the PDF report. Please refer to it."
   ]
  }
 ],
 "metadata": {
  "kernelspec": {
   "display_name": "R",
   "language": "R",
   "name": "ir"
  },
  "language_info": {
   "codemirror_mode": "r",
   "file_extension": ".r",
   "mimetype": "text/x-r-source",
   "name": "R",
   "pygments_lexer": "r",
   "version": "3.4.3"
  }
 },
 "nbformat": 4,
 "nbformat_minor": 2
}
